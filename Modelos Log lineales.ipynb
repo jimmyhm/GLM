{
 "cells": [
  {
   "cell_type": "code",
   "execution_count": 1,
   "metadata": {
    "collapsed": true
   },
   "outputs": [],
   "source": [
    "library(\"MASS\")"
   ]
  },
  {
   "cell_type": "markdown",
   "metadata": {},
   "source": [
    "## Problema 1\n",
    "### Solución"
   ]
  },
  {
   "cell_type": "code",
   "execution_count": 2,
   "metadata": {},
   "outputs": [
    {
     "data": {
      "text/plain": [
       "                                resultado     1     2     3     4     5\n",
       "genero    localizacion cinturon                                        \n",
       "femenino  rural        si                  7287   175   720    91    10\n",
       "                       no                 11587   126   577    48     8\n",
       "          urbano       si                  3246    73   710   159    31\n",
       "                       no                  6134    94   564    82    17\n",
       "masculino rural        si                 10381   136   566    96    14\n",
       "                       no                 10969    83   259    37     1\n",
       "          urbano       si                  6123   141   710   188    45\n",
       "                       no                  6693    74   353    74    12"
      ]
     },
     "metadata": {},
     "output_type": "display_data"
    },
    {
     "data": {
      "text/html": [
       "<table>\n",
       "<thead><tr><th scope=col>genero</th><th scope=col>localizacion</th><th scope=col>cinturon</th><th scope=col>resultado</th><th scope=col>Freq</th></tr></thead>\n",
       "<tbody>\n",
       "\t<tr><td>femenino </td><td>rural    </td><td>si       </td><td>1        </td><td> 7287    </td></tr>\n",
       "\t<tr><td>masculino</td><td>rural    </td><td>si       </td><td>1        </td><td>10381    </td></tr>\n",
       "\t<tr><td>femenino </td><td>urbano   </td><td>si       </td><td>1        </td><td> 3246    </td></tr>\n",
       "\t<tr><td>masculino</td><td>urbano   </td><td>si       </td><td>1        </td><td> 6123    </td></tr>\n",
       "\t<tr><td>femenino </td><td>rural    </td><td>no       </td><td>1        </td><td>11587    </td></tr>\n",
       "\t<tr><td>masculino</td><td>rural    </td><td>no       </td><td>1        </td><td>10969    </td></tr>\n",
       "\t<tr><td>femenino </td><td>urbano   </td><td>no       </td><td>1        </td><td> 6134    </td></tr>\n",
       "\t<tr><td>masculino</td><td>urbano   </td><td>no       </td><td>1        </td><td> 6693    </td></tr>\n",
       "\t<tr><td>femenino </td><td>rural    </td><td>si       </td><td>2        </td><td>  175    </td></tr>\n",
       "\t<tr><td>masculino</td><td>rural    </td><td>si       </td><td>2        </td><td>  136    </td></tr>\n",
       "</tbody>\n",
       "</table>\n"
      ],
      "text/latex": [
       "\\begin{tabular}{r|lllll}\n",
       " genero & localizacion & cinturon & resultado & Freq\\\\\n",
       "\\hline\n",
       "\t femenino  & rural     & si        & 1         &  7287    \\\\\n",
       "\t masculino & rural     & si        & 1         & 10381    \\\\\n",
       "\t femenino  & urbano    & si        & 1         &  3246    \\\\\n",
       "\t masculino & urbano    & si        & 1         &  6123    \\\\\n",
       "\t femenino  & rural     & no        & 1         & 11587    \\\\\n",
       "\t masculino & rural     & no        & 1         & 10969    \\\\\n",
       "\t femenino  & urbano    & no        & 1         &  6134    \\\\\n",
       "\t masculino & urbano    & no        & 1         &  6693    \\\\\n",
       "\t femenino  & rural     & si        & 2         &   175    \\\\\n",
       "\t masculino & rural     & si        & 2         &   136    \\\\\n",
       "\\end{tabular}\n"
      ],
      "text/markdown": [
       "\n",
       "genero | localizacion | cinturon | resultado | Freq | \n",
       "|---|---|---|---|---|---|---|---|---|---|\n",
       "| femenino  | rural     | si        | 1         |  7287     | \n",
       "| masculino | rural     | si        | 1         | 10381     | \n",
       "| femenino  | urbano    | si        | 1         |  3246     | \n",
       "| masculino | urbano    | si        | 1         |  6123     | \n",
       "| femenino  | rural     | no        | 1         | 11587     | \n",
       "| masculino | rural     | no        | 1         | 10969     | \n",
       "| femenino  | urbano    | no        | 1         |  6134     | \n",
       "| masculino | urbano    | no        | 1         |  6693     | \n",
       "| femenino  | rural     | si        | 2         |   175     | \n",
       "| masculino | rural     | si        | 2         |   136     | \n",
       "\n",
       "\n"
      ],
      "text/plain": [
       "   genero    localizacion cinturon resultado Freq \n",
       "1  femenino  rural        si       1          7287\n",
       "2  masculino rural        si       1         10381\n",
       "3  femenino  urbano       si       1          3246\n",
       "4  masculino urbano       si       1          6123\n",
       "5  femenino  rural        no       1         11587\n",
       "6  masculino rural        no       1         10969\n",
       "7  femenino  urbano       no       1          6134\n",
       "8  masculino urbano       no       1          6693\n",
       "9  femenino  rural        si       2           175\n",
       "10 masculino rural        si       2           136"
      ]
     },
     "metadata": {},
     "output_type": "display_data"
    }
   ],
   "source": [
    "\n",
    "#Imprimimos la tabla con los datos \n",
    "\n",
    "datosAccidentes = array(data=c(7287,10381,3246,6123,11587,10969,6134,6693\n",
    "         ,175,136,73,141,126,83,94,74,720,566,710,710,\n",
    "         577,259,564,353,91,96,159,188,48,37,82,74,10,14,\n",
    "        31,45,8,1,17,12),\n",
    "dim = c(2,2,2,5), \n",
    "dimnames = list(\"genero\" = c(\"femenino\",\"masculino\"),\n",
    "\"localizacion\" = c(\"rural\",\"urbano\"),\n",
    "\"cinturon\" = c(\"si\",\"no\"),\n",
    "\"resultado\"=c( \"1\" ,\"2\" , \"3\", \"4\", \"5\")))\n",
    "\n",
    "dataTable=ftable(datosAccidentes,\n",
    "        row.vars=c(\"genero\",\"localizacion\",\"cinturon\"))\n",
    "#convertimos a data frame para aplicar los analisis\n",
    "accidentes<- as.data.frame(as.table(datosAccidentes))\n",
    "#imprimimos la tabla\n",
    "dataTable\n",
    "accidentes[1:10,]\n",
    "\n"
   ]
  },
  {
   "cell_type": "code",
   "execution_count": 3,
   "metadata": {},
   "outputs": [
    {
     "name": "stdout",
     "output_type": "stream",
     "text": [
      "[1] \"calculamos los valores marginales totales\"\n"
     ]
    },
    {
     "data": {
      "text/html": [
       "<table>\n",
       "<thead><tr><th></th><th scope=col></th><th scope=col></th><th scope=col></th><th scope=col></th><th scope=col></th><th scope=col>Sum</th></tr></thead>\n",
       "<tbody>\n",
       "\t<tr><th scope=row></th><td> 7287</td><td>175  </td><td> 720 </td><td> 91  </td><td> 10  </td><td> 8283</td></tr>\n",
       "\t<tr><th scope=row></th><td>11587</td><td>126  </td><td> 577 </td><td> 48  </td><td>  8  </td><td>12346</td></tr>\n",
       "\t<tr><th scope=row></th><td> 3246</td><td> 73  </td><td> 710 </td><td>159  </td><td> 31  </td><td> 4219</td></tr>\n",
       "\t<tr><th scope=row></th><td> 6134</td><td> 94  </td><td> 564 </td><td> 82  </td><td> 17  </td><td> 6891</td></tr>\n",
       "\t<tr><th scope=row></th><td>10381</td><td>136  </td><td> 566 </td><td> 96  </td><td> 14  </td><td>11193</td></tr>\n",
       "\t<tr><th scope=row></th><td>10969</td><td> 83  </td><td> 259 </td><td> 37  </td><td>  1  </td><td>11349</td></tr>\n",
       "\t<tr><th scope=row></th><td> 6123</td><td>141  </td><td> 710 </td><td>188  </td><td> 45  </td><td> 7207</td></tr>\n",
       "\t<tr><th scope=row></th><td> 6693</td><td> 74  </td><td> 353 </td><td> 74  </td><td> 12  </td><td> 7206</td></tr>\n",
       "\t<tr><th scope=row>Sum</th><td>62420</td><td>902  </td><td>4459 </td><td>775  </td><td>138  </td><td>68694</td></tr>\n",
       "</tbody>\n",
       "</table>\n"
      ],
      "text/latex": [
       "\\begin{tabular}{r|llllll}\n",
       "  &  &  &  &  &  & Sum\\\\\n",
       "\\hline\n",
       "\t &  7287 & 175   &  720  &  91   &  10   &  8283\\\\\n",
       "\t & 11587 & 126   &  577  &  48   &   8   & 12346\\\\\n",
       "\t &  3246 &  73   &  710  & 159   &  31   &  4219\\\\\n",
       "\t &  6134 &  94   &  564  &  82   &  17   &  6891\\\\\n",
       "\t & 10381 & 136   &  566  &  96   &  14   & 11193\\\\\n",
       "\t & 10969 &  83   &  259  &  37   &   1   & 11349\\\\\n",
       "\t &  6123 & 141   &  710  & 188   &  45   &  7207\\\\\n",
       "\t &  6693 &  74   &  353  &  74   &  12   &  7206\\\\\n",
       "\tSum & 62420 & 902   & 4459  & 775   & 138   & 68694\\\\\n",
       "\\end{tabular}\n"
      ],
      "text/markdown": [
       "\n",
       "| <!--/--> |  |  |  |  |  | Sum | \n",
       "|---|---|---|---|---|---|---|---|---|\n",
       "|  |  7287 | 175   |  720  |  91   |  10   |  8283 | \n",
       "|  | 11587 | 126   |  577  |  48   |   8   | 12346 | \n",
       "|  |  3246 |  73   |  710  | 159   |  31   |  4219 | \n",
       "|  |  6134 |  94   |  564  |  82   |  17   |  6891 | \n",
       "|  | 10381 | 136   |  566  |  96   |  14   | 11193 | \n",
       "|  | 10969 |  83   |  259  |  37   |   1   | 11349 | \n",
       "|  |  6123 | 141   |  710  | 188   |  45   |  7207 | \n",
       "|  |  6693 |  74   |  353  |  74   |  12   |  7206 | \n",
       "| Sum | 62420 | 902   | 4459  | 775   | 138   | 68694 | \n",
       "\n",
       "\n"
      ],
      "text/plain": [
       "                           Sum  \n",
       "     7287 175  720  91  10  8283\n",
       "    11587 126  577  48   8 12346\n",
       "     3246  73  710 159  31  4219\n",
       "     6134  94  564  82  17  6891\n",
       "    10381 136  566  96  14 11193\n",
       "    10969  83  259  37   1 11349\n",
       "     6123 141  710 188  45  7207\n",
       "     6693  74  353  74  12  7206\n",
       "Sum 62420 902 4459 775 138 68694"
      ]
     },
     "metadata": {},
     "output_type": "display_data"
    }
   ],
   "source": [
    "print(\"calculamos los valores marginales totales\")\n",
    "addmargins(dataTable)"
   ]
  },
  {
   "cell_type": "code",
   "execution_count": 4,
   "metadata": {},
   "outputs": [
    {
     "name": "stdout",
     "output_type": "stream",
     "text": [
      "[1] \"calculamos la proporcion para cada celda\"\n"
     ]
    },
    {
     "data": {
      "text/html": [
       "<table>\n",
       "<tbody>\n",
       "\t<tr><td>0.10607913  </td><td>0.002547530 </td><td>0.010481265 </td><td>0.0013247154</td><td>1.455731e-04</td></tr>\n",
       "\t<tr><td>0.16867558  </td><td>0.001834221 </td><td>0.008399569 </td><td>0.0006987510</td><td>1.164585e-04</td></tr>\n",
       "\t<tr><td>0.04725304  </td><td>0.001062684 </td><td>0.010335692 </td><td>0.0023146126</td><td>4.512767e-04</td></tr>\n",
       "\t<tr><td>0.08929455  </td><td>0.001368387 </td><td>0.008210324 </td><td>0.0011936996</td><td>2.474743e-04</td></tr>\n",
       "\t<tr><td>0.15111946  </td><td>0.001979794 </td><td>0.008239439 </td><td>0.0013975020</td><td>2.038024e-04</td></tr>\n",
       "\t<tr><td>0.15967916  </td><td>0.001208257 </td><td>0.003770344 </td><td>0.0005386205</td><td>1.455731e-05</td></tr>\n",
       "\t<tr><td>0.08913442  </td><td>0.002052581 </td><td>0.010335692 </td><td>0.0027367747</td><td>6.550790e-04</td></tr>\n",
       "\t<tr><td>0.09743209  </td><td>0.001077241 </td><td>0.005138731 </td><td>0.0010772411</td><td>1.746877e-04</td></tr>\n",
       "</tbody>\n",
       "</table>\n"
      ],
      "text/latex": [
       "\\begin{tabular}{lllll}\n",
       "\t 0.10607913   & 0.002547530  & 0.010481265  & 0.0013247154 & 1.455731e-04\\\\\n",
       "\t 0.16867558   & 0.001834221  & 0.008399569  & 0.0006987510 & 1.164585e-04\\\\\n",
       "\t 0.04725304   & 0.001062684  & 0.010335692  & 0.0023146126 & 4.512767e-04\\\\\n",
       "\t 0.08929455   & 0.001368387  & 0.008210324  & 0.0011936996 & 2.474743e-04\\\\\n",
       "\t 0.15111946   & 0.001979794  & 0.008239439  & 0.0013975020 & 2.038024e-04\\\\\n",
       "\t 0.15967916   & 0.001208257  & 0.003770344  & 0.0005386205 & 1.455731e-05\\\\\n",
       "\t 0.08913442   & 0.002052581  & 0.010335692  & 0.0027367747 & 6.550790e-04\\\\\n",
       "\t 0.09743209   & 0.001077241  & 0.005138731  & 0.0010772411 & 1.746877e-04\\\\\n",
       "\\end{tabular}\n"
      ],
      "text/markdown": [
       "\n",
       "| 0.10607913   | 0.002547530  | 0.010481265  | 0.0013247154 | 1.455731e-04 | \n",
       "| 0.16867558   | 0.001834221  | 0.008399569  | 0.0006987510 | 1.164585e-04 | \n",
       "| 0.04725304   | 0.001062684  | 0.010335692  | 0.0023146126 | 4.512767e-04 | \n",
       "| 0.08929455   | 0.001368387  | 0.008210324  | 0.0011936996 | 2.474743e-04 | \n",
       "| 0.15111946   | 0.001979794  | 0.008239439  | 0.0013975020 | 2.038024e-04 | \n",
       "| 0.15967916   | 0.001208257  | 0.003770344  | 0.0005386205 | 1.455731e-05 | \n",
       "| 0.08913442   | 0.002052581  | 0.010335692  | 0.0027367747 | 6.550790e-04 | \n",
       "| 0.09743209   | 0.001077241  | 0.005138731  | 0.0010772411 | 1.746877e-04 | \n",
       "\n",
       "\n"
      ],
      "text/plain": [
       "     [,1]       [,2]        [,3]        [,4]         [,5]        \n",
       "[1,] 0.10607913 0.002547530 0.010481265 0.0013247154 1.455731e-04\n",
       "[2,] 0.16867558 0.001834221 0.008399569 0.0006987510 1.164585e-04\n",
       "[3,] 0.04725304 0.001062684 0.010335692 0.0023146126 4.512767e-04\n",
       "[4,] 0.08929455 0.001368387 0.008210324 0.0011936996 2.474743e-04\n",
       "[5,] 0.15111946 0.001979794 0.008239439 0.0013975020 2.038024e-04\n",
       "[6,] 0.15967916 0.001208257 0.003770344 0.0005386205 1.455731e-05\n",
       "[7,] 0.08913442 0.002052581 0.010335692 0.0027367747 6.550790e-04\n",
       "[8,] 0.09743209 0.001077241 0.005138731 0.0010772411 1.746877e-04"
      ]
     },
     "metadata": {},
     "output_type": "display_data"
    }
   ],
   "source": [
    "print(\"calculamos la proporcion para cada celda\")\n",
    "prop.table(dataTable)[,1:5]"
   ]
  },
  {
   "cell_type": "code",
   "execution_count": null,
   "metadata": {
    "collapsed": true
   },
   "outputs": [],
   "source": []
  },
  {
   "cell_type": "markdown",
   "metadata": {},
   "source": [
    "### Modelo de independencia\n",
    "\n",
    "Ahora vamos a modelar los datos con el modelo de independencia, diremos que el conteo por celda\n",
    "con las catégorias $i$, $j$, $k$, $l$ es igual al producto de las densidades marginales y el número de \n",
    "observaciones. $\\mu_{ij}=n\\pi_i\\pi_j\\pi_k\\pi_l$\n",
    "Asi tendremos que:\n",
    "\\begin{eqnarray}\n",
    "\\log(\\mu_{ijkl})=\\log n+\\log \\pi_i+\\log \\pi_j+\\log \\pi_k+\\log \\pi_l\n",
    "\\end{eqnarray}\n",
    "\n",
    "\\begin{eqnarray}\n",
    "\\log(\\mu_{ijkl})=\\lambda+\\lambda_i^X+\\lambda_j^Y+\\lambda_k^W+\\lambda_l^Z\n",
    "\\end{eqnarray}\n",
    "\n"
   ]
  },
  {
   "cell_type": "code",
   "execution_count": null,
   "metadata": {
    "collapsed": true
   },
   "outputs": [],
   "source": []
  },
  {
   "cell_type": "code",
   "execution_count": 5,
   "metadata": {},
   "outputs": [
    {
     "data": {
      "text/plain": [
       "\n",
       "Call:\n",
       "glm(formula = Freq ~ genero + localizacion + cinturon + resultado, \n",
       "    family = poisson, data = accidentes)\n",
       "\n",
       "Deviance Residuals: \n",
       "     Min        1Q    Median        3Q       Max  \n",
       "-24.1167   -4.6372   -0.9405    5.6246   17.2114  \n",
       "\n",
       "Coefficients:\n",
       "                    Estimate Std. Error z value Pr(>|z|)    \n",
       "(Intercept)         9.006192   0.007706 1168.75   <2e-16 ***\n",
       "generomasculino     0.152155   0.007653   19.88   <2e-16 ***\n",
       "localizacionurbano -0.525589   0.007896  -66.56   <2e-16 ***\n",
       "cinturonno          0.201277   0.007669   26.24   <2e-16 ***\n",
       "resultado2         -4.237026   0.033536 -126.34   <2e-16 ***\n",
       "resultado3         -2.638961   0.015501 -170.24   <2e-16 ***\n",
       "resultado4         -4.388778   0.036143 -121.43   <2e-16 ***\n",
       "resultado5         -6.114387   0.085219  -71.75   <2e-16 ***\n",
       "---\n",
       "Signif. codes:  0 '***' 0.001 '**' 0.01 '*' 0.05 '.' 0.1 ' ' 1\n",
       "\n",
       "(Dispersion parameter for poisson family taken to be 1)\n",
       "\n",
       "    Null deviance: 176952  on 39  degrees of freedom\n",
       "Residual deviance:   2987  on 32  degrees of freedom\n",
       "AIC: 3290.6\n",
       "\n",
       "Number of Fisher Scoring iterations: 5\n"
      ]
     },
     "metadata": {},
     "output_type": "display_data"
    },
    {
     "data": {
      "text/html": [
       "<table>\n",
       "<thead><tr><th scope=col>genero</th><th scope=col>localizacion</th><th scope=col>cinturon</th><th scope=col>resultado</th><th scope=col>Freq</th><th scope=col>round(fitted(mod0), digits = 0)</th></tr></thead>\n",
       "<tbody>\n",
       "\t<tr><td>femenino </td><td>rural    </td><td>si       </td><td>1        </td><td> 7287    </td><td> 8153    </td></tr>\n",
       "\t<tr><td>masculino</td><td>rural    </td><td>si       </td><td>1        </td><td>10381    </td><td> 9493    </td></tr>\n",
       "\t<tr><td>femenino </td><td>urbano   </td><td>si       </td><td>1        </td><td> 3246    </td><td> 4820    </td></tr>\n",
       "\t<tr><td>masculino</td><td>urbano   </td><td>si       </td><td>1        </td><td> 6123    </td><td> 5613    </td></tr>\n",
       "\t<tr><td>femenino </td><td>rural    </td><td>no       </td><td>1        </td><td>11587    </td><td> 9971    </td></tr>\n",
       "\t<tr><td>masculino</td><td>rural    </td><td>no       </td><td>1        </td><td>10969    </td><td>11610    </td></tr>\n",
       "\t<tr><td>femenino </td><td>urbano   </td><td>no       </td><td>1        </td><td> 6134    </td><td> 5895    </td></tr>\n",
       "\t<tr><td>masculino</td><td>urbano   </td><td>no       </td><td>1        </td><td> 6693    </td><td> 6864    </td></tr>\n",
       "\t<tr><td>femenino </td><td>rural    </td><td>si       </td><td>2        </td><td>  175    </td><td>  118    </td></tr>\n",
       "\t<tr><td>masculino</td><td>rural    </td><td>si       </td><td>2        </td><td>  136    </td><td>  137    </td></tr>\n",
       "</tbody>\n",
       "</table>\n"
      ],
      "text/latex": [
       "\\begin{tabular}{r|llllll}\n",
       " genero & localizacion & cinturon & resultado & Freq & round(fitted(mod0), digits = 0)\\\\\n",
       "\\hline\n",
       "\t femenino  & rural     & si        & 1         &  7287     &  8153    \\\\\n",
       "\t masculino & rural     & si        & 1         & 10381     &  9493    \\\\\n",
       "\t femenino  & urbano    & si        & 1         &  3246     &  4820    \\\\\n",
       "\t masculino & urbano    & si        & 1         &  6123     &  5613    \\\\\n",
       "\t femenino  & rural     & no        & 1         & 11587     &  9971    \\\\\n",
       "\t masculino & rural     & no        & 1         & 10969     & 11610    \\\\\n",
       "\t femenino  & urbano    & no        & 1         &  6134     &  5895    \\\\\n",
       "\t masculino & urbano    & no        & 1         &  6693     &  6864    \\\\\n",
       "\t femenino  & rural     & si        & 2         &   175     &   118    \\\\\n",
       "\t masculino & rural     & si        & 2         &   136     &   137    \\\\\n",
       "\\end{tabular}\n"
      ],
      "text/markdown": [
       "\n",
       "genero | localizacion | cinturon | resultado | Freq | round(fitted(mod0), digits = 0) | \n",
       "|---|---|---|---|---|---|---|---|---|---|\n",
       "| femenino  | rural     | si        | 1         |  7287     |  8153     | \n",
       "| masculino | rural     | si        | 1         | 10381     |  9493     | \n",
       "| femenino  | urbano    | si        | 1         |  3246     |  4820     | \n",
       "| masculino | urbano    | si        | 1         |  6123     |  5613     | \n",
       "| femenino  | rural     | no        | 1         | 11587     |  9971     | \n",
       "| masculino | rural     | no        | 1         | 10969     | 11610     | \n",
       "| femenino  | urbano    | no        | 1         |  6134     |  5895     | \n",
       "| masculino | urbano    | no        | 1         |  6693     |  6864     | \n",
       "| femenino  | rural     | si        | 2         |   175     |   118     | \n",
       "| masculino | rural     | si        | 2         |   136     |   137     | \n",
       "\n",
       "\n"
      ],
      "text/plain": [
       "   genero    localizacion cinturon resultado Freq \n",
       "1  femenino  rural        si       1          7287\n",
       "2  masculino rural        si       1         10381\n",
       "3  femenino  urbano       si       1          3246\n",
       "4  masculino urbano       si       1          6123\n",
       "5  femenino  rural        no       1         11587\n",
       "6  masculino rural        no       1         10969\n",
       "7  femenino  urbano       no       1          6134\n",
       "8  masculino urbano       no       1          6693\n",
       "9  femenino  rural        si       2           175\n",
       "10 masculino rural        si       2           136\n",
       "   round(fitted(mod0), digits = 0)\n",
       "1   8153                          \n",
       "2   9493                          \n",
       "3   4820                          \n",
       "4   5613                          \n",
       "5   9971                          \n",
       "6  11610                          \n",
       "7   5895                          \n",
       "8   6864                          \n",
       "9    118                          \n",
       "10   137                          "
      ]
     },
     "metadata": {},
     "output_type": "display_data"
    }
   ],
   "source": [
    "mod0 <- glm(Freq ~ genero + localizacion + cinturon+ resultado, \n",
    "            data = accidentes, family = poisson)\n",
    "summary(mod0)\n",
    "cbind(mod0$data, round(fitted(mod0),digits = 0) )[1:10,]"
   ]
  },
  {
   "cell_type": "code",
   "execution_count": 7,
   "metadata": {},
   "outputs": [
    {
     "data": {
      "text/html": [
       "0"
      ],
      "text/latex": [
       "0"
      ],
      "text/markdown": [
       "0"
      ],
      "text/plain": [
       "[1] 0"
      ]
     },
     "metadata": {},
     "output_type": "display_data"
    }
   ],
   "source": [
    "#prueba de hipotesis para ver si es buen modelo\n",
    "pchisq(deviance(mod0), df = df.residual(mod0),lower.tail = F)"
   ]
  },
  {
   "cell_type": "code",
   "execution_count": null,
   "metadata": {
    "collapsed": true
   },
   "outputs": [],
   "source": []
  },
  {
   "cell_type": "markdown",
   "metadata": {},
   "source": [
    "\\Large{Imprimimos los primeros diez datos y sus estimaciones, vemos que la estimación\n",
    "no es buena. \n",
    "La estadítstica de la devianza se distribuye como una $\\chi^2$ asi que comparamos con la devianza del modelo, \n",
    "$H_o=\\text{\"Las frecuencias esperadas satisfacen el modelo log lineal dado }\"$,\n",
    "Claramente no lo hace, ya que la prueba anterior se rechaza la hipótesis. \n",
    "Se concluye que para este caso no es un buen modelo no considerar las interaciones.}\n",
    "\\normalsize{}"
   ]
  },
  {
   "cell_type": "markdown",
   "metadata": {},
   "source": [
    "### Modelo Saturado\n",
    "Continuando con los modelos ahoramos ajustaremos un modelo saturado en el que se consideran todas las posibles\n",
    "interacciones, como es sabido el ajuste es perfecto pero el número parametros(40) es el mismo que de observaciones."
   ]
  },
  {
   "cell_type": "code",
   "execution_count": 9,
   "metadata": {
    "collapsed": true
   },
   "outputs": [],
   "source": [
    "modSat=glm(Freq ~ genero*localizacion*resultado*cinturon, \n",
    "           data=accidentes,family = poisson)"
   ]
  },
  {
   "cell_type": "code",
   "execution_count": 10,
   "metadata": {},
   "outputs": [
    {
     "data": {
      "text/html": [
       "<table>\n",
       "<thead><tr><th scope=col>genero</th><th scope=col>localizacion</th><th scope=col>cinturon</th><th scope=col>resultado</th><th scope=col>Freq</th><th scope=col>fitted(modSat)</th></tr></thead>\n",
       "<tbody>\n",
       "\t<tr><td>femenino </td><td>rural    </td><td>si       </td><td>1        </td><td> 7287    </td><td> 7287    </td></tr>\n",
       "\t<tr><td>masculino</td><td>rural    </td><td>si       </td><td>1        </td><td>10381    </td><td>10381    </td></tr>\n",
       "\t<tr><td>femenino </td><td>urbano   </td><td>si       </td><td>1        </td><td> 3246    </td><td> 3246    </td></tr>\n",
       "\t<tr><td>masculino</td><td>urbano   </td><td>si       </td><td>1        </td><td> 6123    </td><td> 6123    </td></tr>\n",
       "\t<tr><td>femenino </td><td>rural    </td><td>no       </td><td>1        </td><td>11587    </td><td>11587    </td></tr>\n",
       "\t<tr><td>masculino</td><td>rural    </td><td>no       </td><td>1        </td><td>10969    </td><td>10969    </td></tr>\n",
       "\t<tr><td>femenino </td><td>urbano   </td><td>no       </td><td>1        </td><td> 6134    </td><td> 6134    </td></tr>\n",
       "\t<tr><td>masculino</td><td>urbano   </td><td>no       </td><td>1        </td><td> 6693    </td><td> 6693    </td></tr>\n",
       "\t<tr><td>femenino </td><td>rural    </td><td>si       </td><td>2        </td><td>  175    </td><td>  175    </td></tr>\n",
       "\t<tr><td>masculino</td><td>rural    </td><td>si       </td><td>2        </td><td>  136    </td><td>  136    </td></tr>\n",
       "</tbody>\n",
       "</table>\n"
      ],
      "text/latex": [
       "\\begin{tabular}{r|llllll}\n",
       " genero & localizacion & cinturon & resultado & Freq & fitted(modSat)\\\\\n",
       "\\hline\n",
       "\t femenino  & rural     & si        & 1         &  7287     &  7287    \\\\\n",
       "\t masculino & rural     & si        & 1         & 10381     & 10381    \\\\\n",
       "\t femenino  & urbano    & si        & 1         &  3246     &  3246    \\\\\n",
       "\t masculino & urbano    & si        & 1         &  6123     &  6123    \\\\\n",
       "\t femenino  & rural     & no        & 1         & 11587     & 11587    \\\\\n",
       "\t masculino & rural     & no        & 1         & 10969     & 10969    \\\\\n",
       "\t femenino  & urbano    & no        & 1         &  6134     &  6134    \\\\\n",
       "\t masculino & urbano    & no        & 1         &  6693     &  6693    \\\\\n",
       "\t femenino  & rural     & si        & 2         &   175     &   175    \\\\\n",
       "\t masculino & rural     & si        & 2         &   136     &   136    \\\\\n",
       "\\end{tabular}\n"
      ],
      "text/markdown": [
       "\n",
       "genero | localizacion | cinturon | resultado | Freq | fitted(modSat) | \n",
       "|---|---|---|---|---|---|---|---|---|---|\n",
       "| femenino  | rural     | si        | 1         |  7287     |  7287     | \n",
       "| masculino | rural     | si        | 1         | 10381     | 10381     | \n",
       "| femenino  | urbano    | si        | 1         |  3246     |  3246     | \n",
       "| masculino | urbano    | si        | 1         |  6123     |  6123     | \n",
       "| femenino  | rural     | no        | 1         | 11587     | 11587     | \n",
       "| masculino | rural     | no        | 1         | 10969     | 10969     | \n",
       "| femenino  | urbano    | no        | 1         |  6134     |  6134     | \n",
       "| masculino | urbano    | no        | 1         |  6693     |  6693     | \n",
       "| femenino  | rural     | si        | 2         |   175     |   175     | \n",
       "| masculino | rural     | si        | 2         |   136     |   136     | \n",
       "\n",
       "\n"
      ],
      "text/plain": [
       "   genero    localizacion cinturon resultado Freq  fitted(modSat)\n",
       "1  femenino  rural        si       1          7287  7287         \n",
       "2  masculino rural        si       1         10381 10381         \n",
       "3  femenino  urbano       si       1          3246  3246         \n",
       "4  masculino urbano       si       1          6123  6123         \n",
       "5  femenino  rural        no       1         11587 11587         \n",
       "6  masculino rural        no       1         10969 10969         \n",
       "7  femenino  urbano       no       1          6134  6134         \n",
       "8  masculino urbano       no       1          6693  6693         \n",
       "9  femenino  rural        si       2           175   175         \n",
       "10 masculino rural        si       2           136   136         "
      ]
     },
     "metadata": {},
     "output_type": "display_data"
    }
   ],
   "source": [
    "cbind(modSat$data, fitted(modSat))[1:10,]"
   ]
  },
  {
   "cell_type": "code",
   "execution_count": 11,
   "metadata": {},
   "outputs": [
    {
     "data": {
      "text/html": [
       "1"
      ],
      "text/latex": [
       "1"
      ],
      "text/markdown": [
       "1"
      ],
      "text/plain": [
       "[1] 1"
      ]
     },
     "metadata": {},
     "output_type": "display_data"
    }
   ],
   "source": [
    "#Hacemos la prueba de Hipótesis y no se rechaza la hupitesis\n",
    "pchisq(deviance(modSat), df = df.residual(modSat))"
   ]
  },
  {
   "cell_type": "markdown",
   "metadata": {},
   "source": [
    "### Modelo homogeneo\n",
    "Ahora vamos a considerar el modelo\n",
    "\\begin{eqnarray}\n",
    "\\log\\mu_{ijkl}&=&\\log\\lambda+\\log\\lambda_i^X+\\log\\lambda_j^Y+\\log\\lambda_k^W+\\log\\lambda_l^Z+\n",
    "\\log\\lambda_i^X\\log\\lambda_j^Y+\\log\\lambda_i^X\\log\\lambda_k^W+\\log\\lambda_i^X\\log\\lambda_l^Z+\\\\\n",
    "&&\\log\\lambda_j^Y\\log\\lambda_k^W+\\log\\lambda_j^Y\\log\\lambda_l^Z+\\log\\lambda_k^W\\log\\lambda_l^Z\n",
    "\\end{eqnarray}\n"
   ]
  },
  {
   "cell_type": "code",
   "execution_count": 12,
   "metadata": {
    "collapsed": true
   },
   "outputs": [],
   "source": [
    "modHom <- glm(Freq ~ (genero+cinturon+resultado+localizacion)^2, \n",
    "              data = accidentes, family = poisson)"
   ]
  },
  {
   "cell_type": "code",
   "execution_count": 13,
   "metadata": {},
   "outputs": [
    {
     "data": {
      "text/plain": [
       "\n",
       "Call:\n",
       "glm(formula = Freq ~ (genero + cinturon + resultado + localizacion)^2, \n",
       "    family = poisson, data = accidentes)\n",
       "\n",
       "Deviance Residuals: \n",
       "    Min       1Q   Median       3Q      Max  \n",
       "-2.5099  -0.5499  -0.1179   0.7137   1.9013  \n",
       "\n",
       "Coefficients:\n",
       "                                   Estimate Std. Error z value Pr(>|z|)    \n",
       "(Intercept)                         8.87797    0.01087 816.719  < 2e-16 ***\n",
       "generomasculino                     0.37911    0.01332  28.454  < 2e-16 ***\n",
       "cinturonno                          0.49271    0.01311  37.579  < 2e-16 ***\n",
       "resultado2                         -3.86043    0.06265 -61.616  < 2e-16 ***\n",
       "resultado3                         -2.28298    0.02946 -77.487  < 2e-16 ***\n",
       "resultado4                         -4.34789    0.07534 -57.707  < 2e-16 ***\n",
       "resultado5                         -6.41098    0.20178 -31.772  < 2e-16 ***\n",
       "localizacionurbano                 -0.76101    0.01603 -47.464  < 2e-16 ***\n",
       "generomasculino:cinturonno         -0.45933    0.01569 -29.279  < 2e-16 ***\n",
       "generomasculino:resultado2         -0.35265    0.06770  -5.209 1.89e-07 ***\n",
       "generomasculino:resultado3         -0.62203    0.03189 -19.505  < 2e-16 ***\n",
       "generomasculino:resultado4         -0.33359    0.07308  -4.564 5.01e-06 ***\n",
       "generomasculino:resultado5         -0.32460    0.17186  -1.889   0.0589 .  \n",
       "generomasculino:localizacionurbano  0.20935    0.01614  12.969  < 2e-16 ***\n",
       "cinturonno:resultado2              -0.64481    0.06846  -9.419  < 2e-16 ***\n",
       "cinturonno:resultado3              -0.78462    0.03214 -24.410  < 2e-16 ***\n",
       "cinturonno:resultado4              -1.12176    0.07864 -14.265  < 2e-16 ***\n",
       "cinturonno:resultado5              -1.29994    0.19188  -6.775 1.25e-11 ***\n",
       "cinturonno:localizacionurbano       0.08849    0.01621   5.459 4.80e-08 ***\n",
       "resultado2:localizacionurbano       0.31399    0.06806   4.613 3.96e-06 ***\n",
       "resultado3:localizacionurbano       0.73440    0.03142  23.377  < 2e-16 ***\n",
       "resultado4:localizacionurbano       1.24333    0.07596  16.368  < 2e-16 ***\n",
       "resultado5:localizacionurbano       1.78791    0.20002   8.939  < 2e-16 ***\n",
       "---\n",
       "Signif. codes:  0 '***' 0.001 '**' 0.01 '*' 0.05 '.' 0.1 ' ' 1\n",
       "\n",
       "(Dispersion parameter for poisson family taken to be 1)\n",
       "\n",
       "    Null deviance: 176951.71  on 39  degrees of freedom\n",
       "Residual deviance:     42.01  on 17  degrees of freedom\n",
       "AIC: 375.68\n",
       "\n",
       "Number of Fisher Scoring iterations: 4\n"
      ]
     },
     "metadata": {},
     "output_type": "display_data"
    },
    {
     "data": {
      "text/html": [
       "<table>\n",
       "<thead><tr><th scope=col>genero</th><th scope=col>localizacion</th><th scope=col>cinturon</th><th scope=col>resultado</th><th scope=col>Freq</th><th scope=col>FreqEsperada</th></tr></thead>\n",
       "<tbody>\n",
       "\t<tr><td>femenino </td><td>rural    </td><td>si       </td><td>1        </td><td> 7287    </td><td> 8153    </td></tr>\n",
       "\t<tr><td>masculino</td><td>rural    </td><td>si       </td><td>1        </td><td>10381    </td><td> 9493    </td></tr>\n",
       "\t<tr><td>femenino </td><td>urbano   </td><td>si       </td><td>1        </td><td> 3246    </td><td> 4820    </td></tr>\n",
       "\t<tr><td>masculino</td><td>urbano   </td><td>si       </td><td>1        </td><td> 6123    </td><td> 5613    </td></tr>\n",
       "\t<tr><td>femenino </td><td>rural    </td><td>no       </td><td>1        </td><td>11587    </td><td> 9971    </td></tr>\n",
       "\t<tr><td>masculino</td><td>rural    </td><td>no       </td><td>1        </td><td>10969    </td><td>11610    </td></tr>\n",
       "\t<tr><td>femenino </td><td>urbano   </td><td>no       </td><td>1        </td><td> 6134    </td><td> 5895    </td></tr>\n",
       "\t<tr><td>masculino</td><td>urbano   </td><td>no       </td><td>1        </td><td> 6693    </td><td> 6864    </td></tr>\n",
       "\t<tr><td>femenino </td><td>rural    </td><td>si       </td><td>2        </td><td>  175    </td><td>  118    </td></tr>\n",
       "\t<tr><td>masculino</td><td>rural    </td><td>si       </td><td>2        </td><td>  136    </td><td>  137    </td></tr>\n",
       "\t<tr><td>femenino </td><td>urbano   </td><td>si       </td><td>2        </td><td>   73    </td><td>   70    </td></tr>\n",
       "\t<tr><td>masculino</td><td>urbano   </td><td>si       </td><td>2        </td><td>  141    </td><td>   81    </td></tr>\n",
       "</tbody>\n",
       "</table>\n"
      ],
      "text/latex": [
       "\\begin{tabular}{r|llllll}\n",
       " genero & localizacion & cinturon & resultado & Freq & FreqEsperada\\\\\n",
       "\\hline\n",
       "\t femenino  & rural     & si        & 1         &  7287     &  8153    \\\\\n",
       "\t masculino & rural     & si        & 1         & 10381     &  9493    \\\\\n",
       "\t femenino  & urbano    & si        & 1         &  3246     &  4820    \\\\\n",
       "\t masculino & urbano    & si        & 1         &  6123     &  5613    \\\\\n",
       "\t femenino  & rural     & no        & 1         & 11587     &  9971    \\\\\n",
       "\t masculino & rural     & no        & 1         & 10969     & 11610    \\\\\n",
       "\t femenino  & urbano    & no        & 1         &  6134     &  5895    \\\\\n",
       "\t masculino & urbano    & no        & 1         &  6693     &  6864    \\\\\n",
       "\t femenino  & rural     & si        & 2         &   175     &   118    \\\\\n",
       "\t masculino & rural     & si        & 2         &   136     &   137    \\\\\n",
       "\t femenino  & urbano    & si        & 2         &    73     &    70    \\\\\n",
       "\t masculino & urbano    & si        & 2         &   141     &    81    \\\\\n",
       "\\end{tabular}\n"
      ],
      "text/markdown": [
       "\n",
       "genero | localizacion | cinturon | resultado | Freq | FreqEsperada | \n",
       "|---|---|---|---|---|---|---|---|---|---|---|---|\n",
       "| femenino  | rural     | si        | 1         |  7287     |  8153     | \n",
       "| masculino | rural     | si        | 1         | 10381     |  9493     | \n",
       "| femenino  | urbano    | si        | 1         |  3246     |  4820     | \n",
       "| masculino | urbano    | si        | 1         |  6123     |  5613     | \n",
       "| femenino  | rural     | no        | 1         | 11587     |  9971     | \n",
       "| masculino | rural     | no        | 1         | 10969     | 11610     | \n",
       "| femenino  | urbano    | no        | 1         |  6134     |  5895     | \n",
       "| masculino | urbano    | no        | 1         |  6693     |  6864     | \n",
       "| femenino  | rural     | si        | 2         |   175     |   118     | \n",
       "| masculino | rural     | si        | 2         |   136     |   137     | \n",
       "| femenino  | urbano    | si        | 2         |    73     |    70     | \n",
       "| masculino | urbano    | si        | 2         |   141     |    81     | \n",
       "\n",
       "\n"
      ],
      "text/plain": [
       "   genero    localizacion cinturon resultado Freq  FreqEsperada\n",
       "1  femenino  rural        si       1          7287  8153       \n",
       "2  masculino rural        si       1         10381  9493       \n",
       "3  femenino  urbano       si       1          3246  4820       \n",
       "4  masculino urbano       si       1          6123  5613       \n",
       "5  femenino  rural        no       1         11587  9971       \n",
       "6  masculino rural        no       1         10969 11610       \n",
       "7  femenino  urbano       no       1          6134  5895       \n",
       "8  masculino urbano       no       1          6693  6864       \n",
       "9  femenino  rural        si       2           175   118       \n",
       "10 masculino rural        si       2           136   137       \n",
       "11 femenino  urbano       si       2            73    70       \n",
       "12 masculino urbano       si       2           141    81       "
      ]
     },
     "metadata": {},
     "output_type": "display_data"
    }
   ],
   "source": [
    "FreqEsperada=(round(fitted(mod0), digits = 0))\n",
    "summary(modHom)\n",
    "cbind(modHom$data, FreqEsperada)[1:12,]"
   ]
  },
  {
   "cell_type": "code",
   "execution_count": 14,
   "metadata": {},
   "outputs": [
    {
     "data": {
      "text/html": [
       "0.000668487026253251"
      ],
      "text/latex": [
       "0.000668487026253251"
      ],
      "text/markdown": [
       "0.000668487026253251"
      ],
      "text/plain": [
       "[1] 0.000668487"
      ]
     },
     "metadata": {},
     "output_type": "display_data"
    }
   ],
   "source": [
    "#Hacemos la prueba de hipótesis para ver si es un buen modelo,\n",
    "# pero no lo es, se rechaza la hipotesis. \n",
    "pchisq(deviance(modHom), df = df.residual(modHom),lower.tail = F)"
   ]
  },
  {
   "cell_type": "markdown",
   "metadata": {},
   "source": [
    "### Modelo con interración a tercer orden  \n",
    "Ahora vamos a considerar interraciones a tercer nivel es decir"
   ]
  },
  {
   "cell_type": "code",
   "execution_count": 15,
   "metadata": {
    "collapsed": true
   },
   "outputs": [],
   "source": [
    "modint3orden <- glm(Freq ~ (genero + localizacion+ resultado + cinturon)^3, \n",
    "                    data = accidentes, family = poisson)"
   ]
  },
  {
   "cell_type": "code",
   "execution_count": 20,
   "metadata": {},
   "outputs": [
    {
     "data": {
      "text/html": [
       "<table>\n",
       "<thead><tr><th scope=col>genero</th><th scope=col>localizacion</th><th scope=col>cinturon</th><th scope=col>resultado</th><th scope=col>Freq</th><th scope=col>FreqEsperada</th></tr></thead>\n",
       "<tbody>\n",
       "\t<tr><td>femenino </td><td>rural    </td><td>si       </td><td>1        </td><td> 7287    </td><td> 7278    </td></tr>\n",
       "\t<tr><td>masculino</td><td>rural    </td><td>si       </td><td>1        </td><td>10381    </td><td>10390    </td></tr>\n",
       "\t<tr><td>femenino </td><td>urbano   </td><td>si       </td><td>1        </td><td> 3246    </td><td> 3255    </td></tr>\n",
       "\t<tr><td>masculino</td><td>urbano   </td><td>si       </td><td>1        </td><td> 6123    </td><td> 6114    </td></tr>\n",
       "\t<tr><td>femenino </td><td>rural    </td><td>no       </td><td>1        </td><td>11587    </td><td>11596    </td></tr>\n",
       "\t<tr><td>masculino</td><td>rural    </td><td>no       </td><td>1        </td><td>10969    </td><td>10960    </td></tr>\n",
       "\t<tr><td>femenino </td><td>urbano   </td><td>no       </td><td>1        </td><td> 6134    </td><td> 6125    </td></tr>\n",
       "\t<tr><td>masculino</td><td>urbano   </td><td>no       </td><td>1        </td><td> 6693    </td><td> 6702    </td></tr>\n",
       "\t<tr><td>femenino </td><td>rural    </td><td>si       </td><td>2        </td><td>  175    </td><td>  167    </td></tr>\n",
       "\t<tr><td>masculino</td><td>rural    </td><td>si       </td><td>2        </td><td>  136    </td><td>  144    </td></tr>\n",
       "\t<tr><td>femenino </td><td>urbano   </td><td>si       </td><td>2        </td><td>   73    </td><td>   81    </td></tr>\n",
       "\t<tr><td>masculino</td><td>urbano   </td><td>si       </td><td>2        </td><td>  141    </td><td>  133    </td></tr>\n",
       "</tbody>\n",
       "</table>\n"
      ],
      "text/latex": [
       "\\begin{tabular}{r|llllll}\n",
       " genero & localizacion & cinturon & resultado & Freq & FreqEsperada\\\\\n",
       "\\hline\n",
       "\t femenino  & rural     & si        & 1         &  7287     &  7278    \\\\\n",
       "\t masculino & rural     & si        & 1         & 10381     & 10390    \\\\\n",
       "\t femenino  & urbano    & si        & 1         &  3246     &  3255    \\\\\n",
       "\t masculino & urbano    & si        & 1         &  6123     &  6114    \\\\\n",
       "\t femenino  & rural     & no        & 1         & 11587     & 11596    \\\\\n",
       "\t masculino & rural     & no        & 1         & 10969     & 10960    \\\\\n",
       "\t femenino  & urbano    & no        & 1         &  6134     &  6125    \\\\\n",
       "\t masculino & urbano    & no        & 1         &  6693     &  6702    \\\\\n",
       "\t femenino  & rural     & si        & 2         &   175     &   167    \\\\\n",
       "\t masculino & rural     & si        & 2         &   136     &   144    \\\\\n",
       "\t femenino  & urbano    & si        & 2         &    73     &    81    \\\\\n",
       "\t masculino & urbano    & si        & 2         &   141     &   133    \\\\\n",
       "\\end{tabular}\n"
      ],
      "text/markdown": [
       "\n",
       "genero | localizacion | cinturon | resultado | Freq | FreqEsperada | \n",
       "|---|---|---|---|---|---|---|---|---|---|---|---|\n",
       "| femenino  | rural     | si        | 1         |  7287     |  7278     | \n",
       "| masculino | rural     | si        | 1         | 10381     | 10390     | \n",
       "| femenino  | urbano    | si        | 1         |  3246     |  3255     | \n",
       "| masculino | urbano    | si        | 1         |  6123     |  6114     | \n",
       "| femenino  | rural     | no        | 1         | 11587     | 11596     | \n",
       "| masculino | rural     | no        | 1         | 10969     | 10960     | \n",
       "| femenino  | urbano    | no        | 1         |  6134     |  6125     | \n",
       "| masculino | urbano    | no        | 1         |  6693     |  6702     | \n",
       "| femenino  | rural     | si        | 2         |   175     |   167     | \n",
       "| masculino | rural     | si        | 2         |   136     |   144     | \n",
       "| femenino  | urbano    | si        | 2         |    73     |    81     | \n",
       "| masculino | urbano    | si        | 2         |   141     |   133     | \n",
       "\n",
       "\n"
      ],
      "text/plain": [
       "   genero    localizacion cinturon resultado Freq  FreqEsperada\n",
       "1  femenino  rural        si       1          7287  7278       \n",
       "2  masculino rural        si       1         10381 10390       \n",
       "3  femenino  urbano       si       1          3246  3255       \n",
       "4  masculino urbano       si       1          6123  6114       \n",
       "5  femenino  rural        no       1         11587 11596       \n",
       "6  masculino rural        no       1         10969 10960       \n",
       "7  femenino  urbano       no       1          6134  6125       \n",
       "8  masculino urbano       no       1          6693  6702       \n",
       "9  femenino  rural        si       2           175   167       \n",
       "10 masculino rural        si       2           136   144       \n",
       "11 femenino  urbano       si       2            73    81       \n",
       "12 masculino urbano       si       2           141   133       "
      ]
     },
     "metadata": {},
     "output_type": "display_data"
    }
   ],
   "source": [
    "FreqEsperada=(round(fitted(modint3orden), digits = 0))\n",
    "cbind(modint3orden$data, FreqEsperada)[1:12,]"
   ]
  },
  {
   "cell_type": "code",
   "execution_count": 21,
   "metadata": {},
   "outputs": [
    {
     "data": {
      "text/html": [
       "0.971603538132855"
      ],
      "text/latex": [
       "0.971603538132855"
      ],
      "text/markdown": [
       "0.971603538132855"
      ],
      "text/plain": [
       "[1] 0.9716035"
      ]
     },
     "metadata": {},
     "output_type": "display_data"
    },
    {
     "data": {
      "text/html": [
       "36"
      ],
      "text/latex": [
       "36"
      ],
      "text/markdown": [
       "36"
      ],
      "text/plain": [
       "[1] 36"
      ]
     },
     "metadata": {},
     "output_type": "display_data"
    }
   ],
   "source": [
    "#Hacemos la prueba de Hipótesis y no se rechaza la hipotesis nula\n",
    "pchisq(deviance(modint3orden), df = df.residual(modint3orden))\n",
    "# El detalle es que tenemos 36 coeficientes práctimente es igual que el \n",
    "#numero de observaciones\n",
    "length(modint3orden$coefficients)"
   ]
  },
  {
   "cell_type": "markdown",
   "metadata": {},
   "source": [
    "Sin embargo tenemos 14 coeficientes no significativos, y son las siguientes relaciones \n",
    "\\begin{center}\n",
    "\\begin{tabular}{ l | l }\n",
    "generomasculino:resultado5     &        0.417832  \\\\\n",
    "localizacionurbano:resultado2      &          0.518781 \\\\\n",
    "generomasculino:localizacionurbano:resultado3 &0.456342    \\\\\n",
    "generomasculino:localizacionurbano:resultado4 &0.481350    \\\\\n",
    "generomasculino:localizacionurbano:resultado5 &0.746419 \\\\   \n",
    "generomasculino:resultado2:cinturonno         &0.928027  \\\\  \n",
    "generomasculino:resultado3:cinturonno         &0.650300    \\\\\n",
    "generomasculino:resultado4:cinturonno         &0.180841    \\\\\n",
    "generomasculino:resultado5:cinturonno         &0.198386  \\\\  \n",
    "localizacionurbano:resultado2:cinturonno      &0.385063   \\\\ \n",
    "localizacionurbano:resultado3:cinturonno      &0.166413   \\\\ \n",
    "localizacionurbano:resultado4:cinturonno      &0.511436    \\\\\n",
    "localizacionurbano:resultado5:cinturonno      &0.982535   \\\\\n",
    "resultado5:cinturonno &                    0.010908   \n",
    "\\end{tabular}\n",
    "\\end{center}\n"
   ]
  },
  {
   "cell_type": "markdown",
   "metadata": {},
   "source": [
    "Probamos con otras posibles combinaciones para encontrar el mejor modelo. El siguiente como podemos \n",
    "observar no es tan buen modelo, en el consideramos el modelo saturado para cinturon, \n",
    "localización y genero mas el saturado de cinturon, resultado y localización."
   ]
  },
  {
   "cell_type": "code",
   "execution_count": 22,
   "metadata": {
    "collapsed": true
   },
   "outputs": [],
   "source": [
    "model2 <- glm(Freq ~ (cinturon*localizacion*genero)+(cinturon*resultado*localizacion), data = accidentes, family = poisson)"
   ]
  },
  {
   "cell_type": "code",
   "execution_count": 23,
   "metadata": {},
   "outputs": [
    {
     "data": {
      "text/html": [
       "<table>\n",
       "<thead><tr><th scope=col>genero</th><th scope=col>localizacion</th><th scope=col>cinturon</th><th scope=col>resultado</th><th scope=col>Freq</th><th scope=col>FreqEsperada</th></tr></thead>\n",
       "<tbody>\n",
       "\t<tr><td>femenino </td><td>rural    </td><td>si       </td><td>1        </td><td> 7287    </td><td> 7514    </td></tr>\n",
       "\t<tr><td>masculino</td><td>rural    </td><td>si       </td><td>1        </td><td>10381    </td><td>10154    </td></tr>\n",
       "\t<tr><td>femenino </td><td>urbano   </td><td>si       </td><td>1        </td><td> 3246    </td><td> 3459    </td></tr>\n",
       "\t<tr><td>masculino</td><td>urbano   </td><td>si       </td><td>1        </td><td> 6123    </td><td> 5910    </td></tr>\n",
       "\t<tr><td>femenino </td><td>rural    </td><td>no       </td><td>1        </td><td>11587    </td><td>11753    </td></tr>\n",
       "\t<tr><td>masculino</td><td>rural    </td><td>no       </td><td>1        </td><td>10969    </td><td>10803    </td></tr>\n",
       "\t<tr><td>femenino </td><td>urbano   </td><td>no       </td><td>1        </td><td> 6134    </td><td> 6270    </td></tr>\n",
       "\t<tr><td>masculino</td><td>urbano   </td><td>no       </td><td>1        </td><td> 6693    </td><td> 6557    </td></tr>\n",
       "\t<tr><td>femenino </td><td>rural    </td><td>si       </td><td>2        </td><td>  175    </td><td>  132    </td></tr>\n",
       "\t<tr><td>masculino</td><td>rural    </td><td>si       </td><td>2        </td><td>  136    </td><td>  179    </td></tr>\n",
       "</tbody>\n",
       "</table>\n"
      ],
      "text/latex": [
       "\\begin{tabular}{r|llllll}\n",
       " genero & localizacion & cinturon & resultado & Freq & FreqEsperada\\\\\n",
       "\\hline\n",
       "\t femenino  & rural     & si        & 1         &  7287     &  7514    \\\\\n",
       "\t masculino & rural     & si        & 1         & 10381     & 10154    \\\\\n",
       "\t femenino  & urbano    & si        & 1         &  3246     &  3459    \\\\\n",
       "\t masculino & urbano    & si        & 1         &  6123     &  5910    \\\\\n",
       "\t femenino  & rural     & no        & 1         & 11587     & 11753    \\\\\n",
       "\t masculino & rural     & no        & 1         & 10969     & 10803    \\\\\n",
       "\t femenino  & urbano    & no        & 1         &  6134     &  6270    \\\\\n",
       "\t masculino & urbano    & no        & 1         &  6693     &  6557    \\\\\n",
       "\t femenino  & rural     & si        & 2         &   175     &   132    \\\\\n",
       "\t masculino & rural     & si        & 2         &   136     &   179    \\\\\n",
       "\\end{tabular}\n"
      ],
      "text/markdown": [
       "\n",
       "genero | localizacion | cinturon | resultado | Freq | FreqEsperada | \n",
       "|---|---|---|---|---|---|---|---|---|---|\n",
       "| femenino  | rural     | si        | 1         |  7287     |  7514     | \n",
       "| masculino | rural     | si        | 1         | 10381     | 10154     | \n",
       "| femenino  | urbano    | si        | 1         |  3246     |  3459     | \n",
       "| masculino | urbano    | si        | 1         |  6123     |  5910     | \n",
       "| femenino  | rural     | no        | 1         | 11587     | 11753     | \n",
       "| masculino | rural     | no        | 1         | 10969     | 10803     | \n",
       "| femenino  | urbano    | no        | 1         |  6134     |  6270     | \n",
       "| masculino | urbano    | no        | 1         |  6693     |  6557     | \n",
       "| femenino  | rural     | si        | 2         |   175     |   132     | \n",
       "| masculino | rural     | si        | 2         |   136     |   179     | \n",
       "\n",
       "\n"
      ],
      "text/plain": [
       "   genero    localizacion cinturon resultado Freq  FreqEsperada\n",
       "1  femenino  rural        si       1          7287  7514       \n",
       "2  masculino rural        si       1         10381 10154       \n",
       "3  femenino  urbano       si       1          3246  3459       \n",
       "4  masculino urbano       si       1          6123  5910       \n",
       "5  femenino  rural        no       1         11587 11753       \n",
       "6  masculino rural        no       1         10969 10803       \n",
       "7  femenino  urbano       no       1          6134  6270       \n",
       "8  masculino urbano       no       1          6693  6557       \n",
       "9  femenino  rural        si       2           175   132       \n",
       "10 masculino rural        si       2           136   179       "
      ]
     },
     "metadata": {},
     "output_type": "display_data"
    }
   ],
   "source": [
    "FreqEsperada=(round(fitted(model2 ), digits = 0))\n",
    "cbind(model2$data, FreqEsperada)[1:10,]"
   ]
  },
  {
   "cell_type": "code",
   "execution_count": 26,
   "metadata": {},
   "outputs": [
    {
     "data": {
      "text/html": [
       "3.78520782352722e-86"
      ],
      "text/latex": [
       "3.78520782352722e-86"
      ],
      "text/markdown": [
       "3.78520782352722e-86"
      ],
      "text/plain": [
       "[1] 3.785208e-86"
      ]
     },
     "metadata": {},
     "output_type": "display_data"
    }
   ],
   "source": [
    "### Se rechaza la hpotesis nula \n",
    "pchisq(deviance(model2), df = df.residual(model2),lower.tail = F)"
   ]
  },
  {
   "cell_type": "markdown",
   "metadata": {},
   "source": [
    "El modelo que se muestra a continuación es el modelo anterior más la interacción resultado-genero. Las frecuencias estimadas se muestran a continuación. Tenemos 28 parametros pero 4 de ellos no son significativos."
   ]
  },
  {
   "cell_type": "code",
   "execution_count": 37,
   "metadata": {
    "collapsed": true
   },
   "outputs": [],
   "source": [
    "model3 <- glm(Freq ~ (resultado*genero)+\n",
    "              (localizacion*cinturon*genero)+(localizacion*cinturon*resultado), \n",
    "              data = accidentes, family = poisson)"
   ]
  },
  {
   "cell_type": "code",
   "execution_count": 38,
   "metadata": {},
   "outputs": [
    {
     "data": {
      "text/html": [
       "<table>\n",
       "<thead><tr><th scope=col>genero</th><th scope=col>localizacion</th><th scope=col>cinturon</th><th scope=col>resultado</th><th scope=col>Freq</th><th scope=col>FreqEsperada</th></tr></thead>\n",
       "<tbody>\n",
       "\t<tr><td>femenino </td><td>rural    </td><td>si       </td><td>1        </td><td> 7287    </td><td> 7292    </td></tr>\n",
       "\t<tr><td>masculino</td><td>rural    </td><td>si       </td><td>1        </td><td>10381    </td><td>10376    </td></tr>\n",
       "\t<tr><td>femenino </td><td>urbano   </td><td>si       </td><td>1        </td><td> 3246    </td><td> 3240    </td></tr>\n",
       "\t<tr><td>masculino</td><td>urbano   </td><td>si       </td><td>1        </td><td> 6123    </td><td> 6129    </td></tr>\n",
       "\t<tr><td>femenino </td><td>rural    </td><td>no       </td><td>1        </td><td>11587    </td><td>11608    </td></tr>\n",
       "\t<tr><td>masculino</td><td>rural    </td><td>no       </td><td>1        </td><td>10969    </td><td>10948    </td></tr>\n",
       "\t<tr><td>femenino </td><td>urbano   </td><td>no       </td><td>1        </td><td> 6134    </td><td> 6114    </td></tr>\n",
       "\t<tr><td>masculino</td><td>urbano   </td><td>no       </td><td>1        </td><td> 6693    </td><td> 6713    </td></tr>\n",
       "\t<tr><td>femenino </td><td>rural    </td><td>si       </td><td>2        </td><td>  175    </td><td>  156    </td></tr>\n",
       "\t<tr><td>masculino</td><td>rural    </td><td>si       </td><td>2        </td><td>  136    </td><td>  155    </td></tr>\n",
       "</tbody>\n",
       "</table>\n"
      ],
      "text/latex": [
       "\\begin{tabular}{r|llllll}\n",
       " genero & localizacion & cinturon & resultado & Freq & FreqEsperada\\\\\n",
       "\\hline\n",
       "\t femenino  & rural     & si        & 1         &  7287     &  7292    \\\\\n",
       "\t masculino & rural     & si        & 1         & 10381     & 10376    \\\\\n",
       "\t femenino  & urbano    & si        & 1         &  3246     &  3240    \\\\\n",
       "\t masculino & urbano    & si        & 1         &  6123     &  6129    \\\\\n",
       "\t femenino  & rural     & no        & 1         & 11587     & 11608    \\\\\n",
       "\t masculino & rural     & no        & 1         & 10969     & 10948    \\\\\n",
       "\t femenino  & urbano    & no        & 1         &  6134     &  6114    \\\\\n",
       "\t masculino & urbano    & no        & 1         &  6693     &  6713    \\\\\n",
       "\t femenino  & rural     & si        & 2         &   175     &   156    \\\\\n",
       "\t masculino & rural     & si        & 2         &   136     &   155    \\\\\n",
       "\\end{tabular}\n"
      ],
      "text/markdown": [
       "\n",
       "genero | localizacion | cinturon | resultado | Freq | FreqEsperada | \n",
       "|---|---|---|---|---|---|---|---|---|---|\n",
       "| femenino  | rural     | si        | 1         |  7287     |  7292     | \n",
       "| masculino | rural     | si        | 1         | 10381     | 10376     | \n",
       "| femenino  | urbano    | si        | 1         |  3246     |  3240     | \n",
       "| masculino | urbano    | si        | 1         |  6123     |  6129     | \n",
       "| femenino  | rural     | no        | 1         | 11587     | 11608     | \n",
       "| masculino | rural     | no        | 1         | 10969     | 10948     | \n",
       "| femenino  | urbano    | no        | 1         |  6134     |  6114     | \n",
       "| masculino | urbano    | no        | 1         |  6693     |  6713     | \n",
       "| femenino  | rural     | si        | 2         |   175     |   156     | \n",
       "| masculino | rural     | si        | 2         |   136     |   155     | \n",
       "\n",
       "\n"
      ],
      "text/plain": [
       "   genero    localizacion cinturon resultado Freq  FreqEsperada\n",
       "1  femenino  rural        si       1          7287  7292       \n",
       "2  masculino rural        si       1         10381 10376       \n",
       "3  femenino  urbano       si       1          3246  3240       \n",
       "4  masculino urbano       si       1          6123  6129       \n",
       "5  femenino  rural        no       1         11587 11608       \n",
       "6  masculino rural        no       1         10969 10948       \n",
       "7  femenino  urbano       no       1          6134  6114       \n",
       "8  masculino urbano       no       1          6693  6713       \n",
       "9  femenino  rural        si       2           175   156       \n",
       "10 masculino rural        si       2           136   155       "
      ]
     },
     "metadata": {},
     "output_type": "display_data"
    }
   ],
   "source": [
    "FreqEsperada=(round(fitted(model3), digits = 0))\n",
    "cbind(model3$data, FreqEsperada)[1:10,]\n"
   ]
  },
  {
   "cell_type": "code",
   "execution_count": 39,
   "metadata": {},
   "outputs": [
    {
     "data": {
      "text/html": [
       "0.0268649423875035"
      ],
      "text/latex": [
       "0.0268649423875035"
      ],
      "text/markdown": [
       "0.0268649423875035"
      ],
      "text/plain": [
       "[1] 0.02686494"
      ]
     },
     "metadata": {},
     "output_type": "display_data"
    }
   ],
   "source": [
    "#Hacemos la prueba de Hipótesis y se rechaza la hipotesis nula\n",
    "pchisq(deviance(model3), df = df.residual(model3),\n",
    "       lower.tail = F)"
   ]
  },
  {
   "cell_type": "markdown",
   "metadata": {},
   "source": [
    "Ahora consieremos el modelo: "
   ]
  },
  {
   "cell_type": "code",
   "execution_count": 40,
   "metadata": {
    "collapsed": true
   },
   "outputs": [],
   "source": [
    "modint4orden <- glm(Freq ~(localizacion+genero+cinturon+resultado)+(localizacion:genero)+\n",
    "                    (localizacion:cinturon)+(cinturon:resultado)+(localizacion:resultado)+\n",
    "                        (localizacion:cinturon:genero)+(localizacion:genero:resultado)\n",
    "                    , data = accidentes, family = poisson)"
   ]
  },
  {
   "cell_type": "code",
   "execution_count": 41,
   "metadata": {},
   "outputs": [
    {
     "data": {
      "text/html": [
       "0.122105379484942"
      ],
      "text/latex": [
       "0.122105379484942"
      ],
      "text/markdown": [
       "0.122105379484942"
      ],
      "text/plain": [
       "[1] 0.1221054"
      ]
     },
     "metadata": {},
     "output_type": "display_data"
    }
   ],
   "source": [
    "pchisq(deviance(modint4orden), df = df.residual(modint4orden),\n",
    "       lower.tail = F)"
   ]
  },
  {
   "cell_type": "code",
   "execution_count": 43,
   "metadata": {},
   "outputs": [
    {
     "data": {
      "text/html": [
       "<table>\n",
       "<thead><tr><th scope=col>genero</th><th scope=col>localizacion</th><th scope=col>cinturon</th><th scope=col>resultado</th><th scope=col>Freq</th><th scope=col>FreqEsperada</th></tr></thead>\n",
       "<tbody>\n",
       "\t<tr><td>femenino </td><td>rural    </td><td>si       </td><td>1        </td><td> 7287    </td><td> 7264    </td></tr>\n",
       "\t<tr><td>masculino</td><td>rural    </td><td>si       </td><td>1        </td><td>10381    </td><td>10384    </td></tr>\n",
       "\t<tr><td>femenino </td><td>urbano   </td><td>si       </td><td>1        </td><td> 3246    </td><td> 3265    </td></tr>\n",
       "\t<tr><td>masculino</td><td>urbano   </td><td>si       </td><td>1        </td><td> 6123    </td><td> 6123    </td></tr>\n",
       "\t<tr><td>femenino </td><td>rural    </td><td>no       </td><td>1        </td><td>11587    </td><td>11610    </td></tr>\n",
       "\t<tr><td>masculino</td><td>rural    </td><td>no       </td><td>1        </td><td>10969    </td><td>10966    </td></tr>\n",
       "\t<tr><td>femenino </td><td>urbano   </td><td>no       </td><td>1        </td><td> 6134    </td><td> 6115    </td></tr>\n",
       "\t<tr><td>masculino</td><td>urbano   </td><td>no       </td><td>1        </td><td> 6693    </td><td> 6693    </td></tr>\n",
       "\t<tr><td>femenino </td><td>rural    </td><td>si       </td><td>2        </td><td>  175    </td><td>  164    </td></tr>\n",
       "\t<tr><td>masculino</td><td>rural    </td><td>si       </td><td>2        </td><td>  136    </td><td>  141    </td></tr>\n",
       "</tbody>\n",
       "</table>\n"
      ],
      "text/latex": [
       "\\begin{tabular}{r|llllll}\n",
       " genero & localizacion & cinturon & resultado & Freq & FreqEsperada\\\\\n",
       "\\hline\n",
       "\t femenino  & rural     & si        & 1         &  7287     &  7264    \\\\\n",
       "\t masculino & rural     & si        & 1         & 10381     & 10384    \\\\\n",
       "\t femenino  & urbano    & si        & 1         &  3246     &  3265    \\\\\n",
       "\t masculino & urbano    & si        & 1         &  6123     &  6123    \\\\\n",
       "\t femenino  & rural     & no        & 1         & 11587     & 11610    \\\\\n",
       "\t masculino & rural     & no        & 1         & 10969     & 10966    \\\\\n",
       "\t femenino  & urbano    & no        & 1         &  6134     &  6115    \\\\\n",
       "\t masculino & urbano    & no        & 1         &  6693     &  6693    \\\\\n",
       "\t femenino  & rural     & si        & 2         &   175     &   164    \\\\\n",
       "\t masculino & rural     & si        & 2         &   136     &   141    \\\\\n",
       "\\end{tabular}\n"
      ],
      "text/markdown": [
       "\n",
       "genero | localizacion | cinturon | resultado | Freq | FreqEsperada | \n",
       "|---|---|---|---|---|---|---|---|---|---|\n",
       "| femenino  | rural     | si        | 1         |  7287     |  7264     | \n",
       "| masculino | rural     | si        | 1         | 10381     | 10384     | \n",
       "| femenino  | urbano    | si        | 1         |  3246     |  3265     | \n",
       "| masculino | urbano    | si        | 1         |  6123     |  6123     | \n",
       "| femenino  | rural     | no        | 1         | 11587     | 11610     | \n",
       "| masculino | rural     | no        | 1         | 10969     | 10966     | \n",
       "| femenino  | urbano    | no        | 1         |  6134     |  6115     | \n",
       "| masculino | urbano    | no        | 1         |  6693     |  6693     | \n",
       "| femenino  | rural     | si        | 2         |   175     |   164     | \n",
       "| masculino | rural     | si        | 2         |   136     |   141     | \n",
       "\n",
       "\n"
      ],
      "text/plain": [
       "   genero    localizacion cinturon resultado Freq  FreqEsperada\n",
       "1  femenino  rural        si       1          7287  7264       \n",
       "2  masculino rural        si       1         10381 10384       \n",
       "3  femenino  urbano       si       1          3246  3265       \n",
       "4  masculino urbano       si       1          6123  6123       \n",
       "5  femenino  rural        no       1         11587 11610       \n",
       "6  masculino rural        no       1         10969 10966       \n",
       "7  femenino  urbano       no       1          6134  6115       \n",
       "8  masculino urbano       no       1          6693  6693       \n",
       "9  femenino  rural        si       2           175   164       \n",
       "10 masculino rural        si       2           136   141       "
      ]
     },
     "metadata": {},
     "output_type": "display_data"
    }
   ],
   "source": [
    "FreqEsperada=(round(fitted(modint4orden), digits = 0))\n",
    "cbind(modint4orden$data, FreqEsperada)[1:10,]"
   ]
  },
  {
   "cell_type": "markdown",
   "metadata": {},
   "source": [
    "Considerando las siguientes intereracciones encontramos un buen modelo, ya que al ver las frecuencias estimadas\n",
    "estas le pegan my bien a las frecuencias observadas. Para prueba de la xi cuadrada no se rechaza la hipótesis. Pero tenemos 28 parametros de los cuales 4 no son significativos. Podemos concluir que el modelo de interacciones a tercer orden \n",
    "es más fácil de interpretar y solamente 22 parámetros de los 36 son significativos. "
   ]
  },
  {
   "cell_type": "markdown",
   "metadata": {},
   "source": [
    "## Problema 2\n",
    "En el siguiente problema vamos a ajustar los únicos dos posibles modelos para el caso de dos variables,\n",
    "usando modelos loglineles nos queda el modelo de independencia y el modelo saturado.\n",
    "Como podemos ver ninguno de los dos resulta en un buen ajuste, esto es por que los modelos log lineales solamente \n",
    "se usan para ver posibles interreccciones entre las categorias de la varibales, sin embargo en este caso la manera correcta de modelar será considerar una variable de respuesta y una explicativa.Para ello usamos el modelo logit."
   ]
  },
  {
   "cell_type": "code",
   "execution_count": 45,
   "metadata": {},
   "outputs": [
    {
     "data": {
      "text/plain": [
       "          enfermedad  Dip Pert Tetanus Polio Measles  Pop\n",
       "period                                                   \n",
       "1926-1935            4073 2808     879   430    1102    7\n",
       "1936-1945            2791 1693     655   618     822    7\n",
       "1946-1955             624  429     625  1013     495    9\n",
       "1956-1965              44   58     280   123     210   11\n",
       "1976-1985               2   14      31     2      62   15\n",
       "1986-1995               2    9      21     0      32   17"
      ]
     },
     "metadata": {},
     "output_type": "display_data"
    },
    {
     "data": {
      "text/html": [
       "<table>\n",
       "<thead><tr><th scope=col>period</th><th scope=col>enfermedad</th><th scope=col>Freq</th></tr></thead>\n",
       "<tbody>\n",
       "\t<tr><td>1926-1935</td><td>Dip      </td><td>4073     </td></tr>\n",
       "\t<tr><td>1936-1945</td><td>Dip      </td><td>2791     </td></tr>\n",
       "\t<tr><td>1946-1955</td><td>Dip      </td><td> 624     </td></tr>\n",
       "\t<tr><td>1956-1965</td><td>Dip      </td><td>  44     </td></tr>\n",
       "\t<tr><td>1976-1985</td><td>Dip      </td><td>   2     </td></tr>\n",
       "\t<tr><td>1986-1995</td><td>Dip      </td><td>   2     </td></tr>\n",
       "\t<tr><td>1926-1935</td><td>Pert     </td><td>2808     </td></tr>\n",
       "\t<tr><td>1936-1945</td><td>Pert     </td><td>1693     </td></tr>\n",
       "\t<tr><td>1946-1955</td><td>Pert     </td><td> 429     </td></tr>\n",
       "\t<tr><td>1956-1965</td><td>Pert     </td><td>  58     </td></tr>\n",
       "\t<tr><td>1976-1985</td><td>Pert     </td><td>  14     </td></tr>\n",
       "\t<tr><td>1986-1995</td><td>Pert     </td><td>   9     </td></tr>\n",
       "</tbody>\n",
       "</table>\n"
      ],
      "text/latex": [
       "\\begin{tabular}{r|lll}\n",
       " period & enfermedad & Freq\\\\\n",
       "\\hline\n",
       "\t 1926-1935 & Dip       & 4073     \\\\\n",
       "\t 1936-1945 & Dip       & 2791     \\\\\n",
       "\t 1946-1955 & Dip       &  624     \\\\\n",
       "\t 1956-1965 & Dip       &   44     \\\\\n",
       "\t 1976-1985 & Dip       &    2     \\\\\n",
       "\t 1986-1995 & Dip       &    2     \\\\\n",
       "\t 1926-1935 & Pert      & 2808     \\\\\n",
       "\t 1936-1945 & Pert      & 1693     \\\\\n",
       "\t 1946-1955 & Pert      &  429     \\\\\n",
       "\t 1956-1965 & Pert      &   58     \\\\\n",
       "\t 1976-1985 & Pert      &   14     \\\\\n",
       "\t 1986-1995 & Pert      &    9     \\\\\n",
       "\\end{tabular}\n"
      ],
      "text/markdown": [
       "\n",
       "period | enfermedad | Freq | \n",
       "|---|---|---|---|---|---|---|---|---|---|---|---|\n",
       "| 1926-1935 | Dip       | 4073      | \n",
       "| 1936-1945 | Dip       | 2791      | \n",
       "| 1946-1955 | Dip       |  624      | \n",
       "| 1956-1965 | Dip       |   44      | \n",
       "| 1976-1985 | Dip       |    2      | \n",
       "| 1986-1995 | Dip       |    2      | \n",
       "| 1926-1935 | Pert      | 2808      | \n",
       "| 1936-1945 | Pert      | 1693      | \n",
       "| 1946-1955 | Pert      |  429      | \n",
       "| 1956-1965 | Pert      |   58      | \n",
       "| 1976-1985 | Pert      |   14      | \n",
       "| 1986-1995 | Pert      |    9      | \n",
       "\n",
       "\n"
      ],
      "text/plain": [
       "   period    enfermedad Freq\n",
       "1  1926-1935 Dip        4073\n",
       "2  1936-1945 Dip        2791\n",
       "3  1946-1955 Dip         624\n",
       "4  1956-1965 Dip          44\n",
       "5  1976-1985 Dip           2\n",
       "6  1986-1995 Dip           2\n",
       "7  1926-1935 Pert       2808\n",
       "8  1936-1945 Pert       1693\n",
       "9  1946-1955 Pert        429\n",
       "10 1956-1965 Pert         58\n",
       "11 1976-1985 Pert         14\n",
       "12 1986-1995 Pert          9"
      ]
     },
     "metadata": {},
     "output_type": "display_data"
    }
   ],
   "source": [
    "dataEnf = array(data = c( 4073,2791,624,44,2,2,\n",
    "                2808, 1693,429,58,14,9,\n",
    "                879,655,625,280,31,21,\n",
    "                430,618,1013,123,2,0,\n",
    "                1102,822,495,210,62,32,\n",
    "                7,7,9,11,15,17),         \n",
    "                         \n",
    " dim = c(6,6), \n",
    "dimnames = list(   \n",
    "\"period\" =c(\"1926-1935\",\"1936-1945\",\"1946-1955\",\"1956-1965\",\n",
    "            \"1976-1985\",\"1986-1995\"),\n",
    "\"enfermedad\"=c(\"Dip\", \"Pert\", \"Tetanus\", \"Polio\", \"Measles\",\"Pop\") ) )  \n",
    "tabEnf=ftable(dataEnf, row.vars=c(\"period\"))\n",
    "#convertimos a data frame para aplicar los analisis\n",
    "enfermedades<- as.data.frame(as.table(dataEnf))\n",
    "#imprimimos la tabla\n",
    "tabEnf\n",
    "enfermedades[1:12,]                        "
   ]
  },
  {
   "cell_type": "code",
   "execution_count": 47,
   "metadata": {
    "collapsed": true
   },
   "outputs": [],
   "source": [
    "#modelo saturado\n",
    "modenfSat0=glm(Freq ~ period*enfermedad, data = enfermedades,\n",
    "               family = poisson())"
   ]
  },
  {
   "cell_type": "code",
   "execution_count": 48,
   "metadata": {},
   "outputs": [
    {
     "data": {
      "text/html": [
       "<table>\n",
       "<thead><tr><th scope=col>period</th><th scope=col>enfermedad</th><th scope=col>Freq</th><th scope=col>FreqEsperada</th></tr></thead>\n",
       "<tbody>\n",
       "\t<tr><td>1926-1935</td><td>Dip      </td><td>4073     </td><td>4073     </td></tr>\n",
       "\t<tr><td>1936-1945</td><td>Dip      </td><td>2791     </td><td>2791     </td></tr>\n",
       "\t<tr><td>1946-1955</td><td>Dip      </td><td> 624     </td><td> 624     </td></tr>\n",
       "\t<tr><td>1956-1965</td><td>Dip      </td><td>  44     </td><td>  44     </td></tr>\n",
       "\t<tr><td>1976-1985</td><td>Dip      </td><td>   2     </td><td>   2     </td></tr>\n",
       "\t<tr><td>1986-1995</td><td>Dip      </td><td>   2     </td><td>   2     </td></tr>\n",
       "\t<tr><td>1926-1935</td><td>Pert     </td><td>2808     </td><td>2808     </td></tr>\n",
       "\t<tr><td>1936-1945</td><td>Pert     </td><td>1693     </td><td>1693     </td></tr>\n",
       "\t<tr><td>1946-1955</td><td>Pert     </td><td> 429     </td><td> 429     </td></tr>\n",
       "\t<tr><td>1956-1965</td><td>Pert     </td><td>  58     </td><td>  58     </td></tr>\n",
       "</tbody>\n",
       "</table>\n"
      ],
      "text/latex": [
       "\\begin{tabular}{r|llll}\n",
       " period & enfermedad & Freq & FreqEsperada\\\\\n",
       "\\hline\n",
       "\t 1926-1935 & Dip       & 4073      & 4073     \\\\\n",
       "\t 1936-1945 & Dip       & 2791      & 2791     \\\\\n",
       "\t 1946-1955 & Dip       &  624      &  624     \\\\\n",
       "\t 1956-1965 & Dip       &   44      &   44     \\\\\n",
       "\t 1976-1985 & Dip       &    2      &    2     \\\\\n",
       "\t 1986-1995 & Dip       &    2      &    2     \\\\\n",
       "\t 1926-1935 & Pert      & 2808      & 2808     \\\\\n",
       "\t 1936-1945 & Pert      & 1693      & 1693     \\\\\n",
       "\t 1946-1955 & Pert      &  429      &  429     \\\\\n",
       "\t 1956-1965 & Pert      &   58      &   58     \\\\\n",
       "\\end{tabular}\n"
      ],
      "text/markdown": [
       "\n",
       "period | enfermedad | Freq | FreqEsperada | \n",
       "|---|---|---|---|---|---|---|---|---|---|\n",
       "| 1926-1935 | Dip       | 4073      | 4073      | \n",
       "| 1936-1945 | Dip       | 2791      | 2791      | \n",
       "| 1946-1955 | Dip       |  624      |  624      | \n",
       "| 1956-1965 | Dip       |   44      |   44      | \n",
       "| 1976-1985 | Dip       |    2      |    2      | \n",
       "| 1986-1995 | Dip       |    2      |    2      | \n",
       "| 1926-1935 | Pert      | 2808      | 2808      | \n",
       "| 1936-1945 | Pert      | 1693      | 1693      | \n",
       "| 1946-1955 | Pert      |  429      |  429      | \n",
       "| 1956-1965 | Pert      |   58      |   58      | \n",
       "\n",
       "\n"
      ],
      "text/plain": [
       "   period    enfermedad Freq FreqEsperada\n",
       "1  1926-1935 Dip        4073 4073        \n",
       "2  1936-1945 Dip        2791 2791        \n",
       "3  1946-1955 Dip         624  624        \n",
       "4  1956-1965 Dip          44   44        \n",
       "5  1976-1985 Dip           2    2        \n",
       "6  1986-1995 Dip           2    2        \n",
       "7  1926-1935 Pert       2808 2808        \n",
       "8  1936-1945 Pert       1693 1693        \n",
       "9  1946-1955 Pert        429  429        \n",
       "10 1956-1965 Pert         58   58        "
      ]
     },
     "metadata": {},
     "output_type": "display_data"
    }
   ],
   "source": [
    "FreqEsperada=(round(fitted(modenfSat0), digits = 0))\n",
    "cbind(modenfSat0$data, FreqEsperada)[1:10,]"
   ]
  },
  {
   "cell_type": "code",
   "execution_count": 49,
   "metadata": {
    "collapsed": true
   },
   "outputs": [],
   "source": [
    "#modelo de independencia\n",
    "modenfIndep=glm(Freq ~ period+enfermedad, data = enfermedades, \n",
    "                family = poisson())"
   ]
  },
  {
   "cell_type": "code",
   "execution_count": 50,
   "metadata": {},
   "outputs": [
    {
     "data": {
      "text/html": [
       "<table>\n",
       "<thead><tr><th scope=col>period</th><th scope=col>enfermedad</th><th scope=col>Freq</th><th scope=col>FreqEsperada</th></tr></thead>\n",
       "<tbody>\n",
       "\t<tr><td>1926-1935</td><td>Dip      </td><td>4073     </td><td>3502     </td></tr>\n",
       "\t<tr><td>1936-1945</td><td>Dip      </td><td>2791     </td><td>2480     </td></tr>\n",
       "\t<tr><td>1946-1955</td><td>Dip      </td><td> 624     </td><td>1203     </td></tr>\n",
       "\t<tr><td>1956-1965</td><td>Dip      </td><td>  44     </td><td> 273     </td></tr>\n",
       "\t<tr><td>1976-1985</td><td>Dip      </td><td>   2     </td><td>  47     </td></tr>\n",
       "\t<tr><td>1986-1995</td><td>Dip      </td><td>   2     </td><td>  31     </td></tr>\n",
       "\t<tr><td>1926-1935</td><td>Pert     </td><td>2808     </td><td>2328     </td></tr>\n",
       "\t<tr><td>1936-1945</td><td>Pert     </td><td>1693     </td><td>1649     </td></tr>\n",
       "\t<tr><td>1946-1955</td><td>Pert     </td><td> 429     </td><td> 800     </td></tr>\n",
       "\t<tr><td>1956-1965</td><td>Pert     </td><td>  58     </td><td> 182     </td></tr>\n",
       "</tbody>\n",
       "</table>\n"
      ],
      "text/latex": [
       "\\begin{tabular}{r|llll}\n",
       " period & enfermedad & Freq & FreqEsperada\\\\\n",
       "\\hline\n",
       "\t 1926-1935 & Dip       & 4073      & 3502     \\\\\n",
       "\t 1936-1945 & Dip       & 2791      & 2480     \\\\\n",
       "\t 1946-1955 & Dip       &  624      & 1203     \\\\\n",
       "\t 1956-1965 & Dip       &   44      &  273     \\\\\n",
       "\t 1976-1985 & Dip       &    2      &   47     \\\\\n",
       "\t 1986-1995 & Dip       &    2      &   31     \\\\\n",
       "\t 1926-1935 & Pert      & 2808      & 2328     \\\\\n",
       "\t 1936-1945 & Pert      & 1693      & 1649     \\\\\n",
       "\t 1946-1955 & Pert      &  429      &  800     \\\\\n",
       "\t 1956-1965 & Pert      &   58      &  182     \\\\\n",
       "\\end{tabular}\n"
      ],
      "text/markdown": [
       "\n",
       "period | enfermedad | Freq | FreqEsperada | \n",
       "|---|---|---|---|---|---|---|---|---|---|\n",
       "| 1926-1935 | Dip       | 4073      | 3502      | \n",
       "| 1936-1945 | Dip       | 2791      | 2480      | \n",
       "| 1946-1955 | Dip       |  624      | 1203      | \n",
       "| 1956-1965 | Dip       |   44      |  273      | \n",
       "| 1976-1985 | Dip       |    2      |   47      | \n",
       "| 1986-1995 | Dip       |    2      |   31      | \n",
       "| 1926-1935 | Pert      | 2808      | 2328      | \n",
       "| 1936-1945 | Pert      | 1693      | 1649      | \n",
       "| 1946-1955 | Pert      |  429      |  800      | \n",
       "| 1956-1965 | Pert      |   58      |  182      | \n",
       "\n",
       "\n"
      ],
      "text/plain": [
       "   period    enfermedad Freq FreqEsperada\n",
       "1  1926-1935 Dip        4073 3502        \n",
       "2  1936-1945 Dip        2791 2480        \n",
       "3  1946-1955 Dip         624 1203        \n",
       "4  1956-1965 Dip          44  273        \n",
       "5  1976-1985 Dip           2   47        \n",
       "6  1986-1995 Dip           2   31        \n",
       "7  1926-1935 Pert       2808 2328        \n",
       "8  1936-1945 Pert       1693 1649        \n",
       "9  1946-1955 Pert        429  800        \n",
       "10 1956-1965 Pert         58  182        "
      ]
     },
     "metadata": {},
     "output_type": "display_data"
    }
   ],
   "source": [
    "FreqEsperada=(round(fitted(modenfIndep), digits = 0))\n",
    "cbind(modenfIndep$data, FreqEsperada)[1:10,]"
   ]
  },
  {
   "cell_type": "markdown",
   "metadata": {},
   "source": [
    "El modelo de independencia estima 1203 cuando para un valor de 624, es un mal modelo. Usando el modelo logit, tenemos:"
   ]
  },
  {
   "cell_type": "code",
   "execution_count": 51,
   "metadata": {
    "collapsed": true
   },
   "outputs": [],
   "source": [
    "a=c(4073,2791,624,44,2,2)\n",
    "b=c(2808, 1693,429,58,14,9)\n",
    "d=c(879,655,625,280,31,21)\n",
    "e= c(430,618,1013,123,2,0)\n",
    "f= c( 1102,822,495,210,62,32)\n",
    "g=c(7,7,9,11,15,17)\n",
    "enfermos=cbind(a,b,d,e,f,g)"
   ]
  },
  {
   "cell_type": "code",
   "execution_count": null,
   "metadata": {
    "collapsed": true
   },
   "outputs": [],
   "source": [
    "periodo<-1:6\n",
    "cum.logit <- vglm(enfermos ~ periodo, family=cumulative)\n",
    "summary(cum.logit)\n",
    "fitted.values(cum.logit)\n",
    "#ajustando el modelo logit, tenemos las siguentes frecuencias esperadas, las cuales comparadas con \n",
    "#las de la tabla teorica podemos notar que obtenemos un buen ajuste para la mayoria de los periodos."
   ]
  },
  {
   "cell_type": "markdown",
   "metadata": {},
   "source": [
    "\\begin{tabular}{c|c|c|c|c|c|}\n",
    "4413.13 & 2681.97& 744.83 & 448.12& 1006.98&3.95\\\\\n",
    "2256.10 & 1688.216 & 939.95 & 752.66 & 939.95 &9.09\\\\\n",
    "738.40 & 568.85 & 626.47& 658.78& 588.17 & 14.31\\\\\n",
    "107.28 & 69.20 & 150.37& 222.80 & 165.84 &10.48\\\\\n",
    "11.45 & 4.87 & 22.00 & 48.98 & 32.93 & 5.73\\\\\n",
    "4.41 & 0.81& 10.10& 34.93 & 19.845& 10.87\n",
    "\\end{tabular}"
   ]
  },
  {
   "cell_type": "markdown",
   "metadata": {
    "collapsed": true
   },
   "source": [
    "## Problema 3\n",
    "#### Solución "
   ]
  },
  {
   "cell_type": "markdown",
   "metadata": {},
   "source": [
    "Supongamos que tenemos una muestra  $\\{n_{i,j}\\}$, con $i=1,\\ldots, I$ y $j=1,\\ldots, J$ un coteo poisson $\\{Y_{i,j}\\}$, con $i=1, \\ldots, I$, $j=1, \\ldots, J$ independientes con medias $\\{\\mu_{i,j}\\}$. La función de verosimilitud es:\n",
    "\\begin{equation*}\n",
    "l(N; \\mu)=\\frac{\\prod_{i=1}^{I}\\prod_{j=1}^{J}e^{-\\mu_{i,j}} \\mu_{i,j}^{n_{i,j}}}{\\prod_{i=1}^{I}\\prod_{j=1}^{J}n_{i,j}!},\n",
    "\\end{equation*}\n",
    "donde $N=\\{n_{1,1}, \\ldots, n_{I,J}\\}$ y $\\mu=\\{\\mu_{1,1}, \\ldots, \\mu_{I,J}\\}$.\\\\\n",
    "Si suponemos que $\\sum_{i=1}^{n}n_{i,j}=n$ entonces la verosimilitud queda:\n",
    "\\begin{equation*}\n",
    "l(n; \\pi)=\\frac{n!}{\\prod_{i=1}^{I}\\prod_{j=1}^{J}n_{i,j}!}\\prod_{i=1}^{I}\\prod_{j=1}^{J}\\pi_{i,j}^{n_{i,j}},\n",
    "\\end{equation*}\n",
    "donde $n=\\sum_{i=1}^{n}n_{i,j}$ y $\\pi=\\{\\pi_{1,1},\\ldots, \\pi_{I,J}\\}$ y $\\pi_{i,j}=\\mu_{i,j}/n$.\\\\\n",
    "Obtemos que $l(N; \\mu)=l(n; \\pi)$ siempre que $\\sum_{i=1}^{n}n_{i,j}=n$, \n",
    "eso quiere decir que tomar una muestra $\\{n_{i,j}\\}$, con $i=1,\\ldots, I$ y $j=1,\\ldots, J$  \n",
    "poisson, la podemos llevar a una muestra observada tipo $\\{n_{i,j}\\}$  multinomial,  $i=1,\\ldots, I$ y $j=1,\\ldots, J$ \n",
    "con  $\\sum_{i=1}^{n}n_{i,j}=n$. Por lo tanto, la distribución Poisson y Multinomial son equivalentes en verosimilitud."
   ]
  },
  {
   "cell_type": "markdown",
   "metadata": {},
   "source": [
    "## Problema 4\n",
    "#### Solución"
   ]
  },
  {
   "cell_type": "markdown",
   "metadata": {},
   "source": [
    "Debemos encontrar las estadísticas suficientes para \n",
    "\\begin{equation}\n",
    "\\log(\\mu_{i,j})=u+u_{1}(i)+u_{2}(j)+\\tau_{i}(v_{j}-\\bar{v}).\n",
    "\\end{equation}\n",
    "como sabemos que la distribución $poisson(\\mu)$ pertenece a la familia exponencial, entonces el coeficiente del $\\log(\\mu)$ es una estadística suficiente. Así que la verosimilitud es\n",
    "\\begin{equation*}\n",
    "l(N; \\mu)=\\frac{\\prod_{i=1}^{I}\\prod_{j=1}^{J}e^{-\\mu_{i,j}} \\mu_{i,j}^{n_{i,j}}}{\\prod_{i=1}^{I}\\prod_{j=1}^{J}n_{i,j}!},\n",
    "\\end{equation*}\n",
    "y donde nos interesa \n",
    "\\begin{equation}\n",
    "\\log\\left(\\prod_{i=1}^{I}\\prod_{j=1}^{J}e^{-\\mu_{i,j}} \\mu_{i,j}^{n_{i,j}}\\right)=\\sum_{i}\\sum_{j}n_{i,j}\\log(\\mu_{i,j})-\\sum_{i}\\sum_{j}\\mu_{i,j}.\n",
    "\\end{equation}\n",
    "Sustituyendon la primera ecuación en la segunda obtenemos \n",
    "\\begin{eqnarray*}\n",
    "\\sum_{i}\\sum_{j}n_{i,j}[u+u_{1}(i)+u_{2}(j)+\\tau_{i}(v_{j}&-&\\bar{v})]-\\sum_{i}\\sum_{j}\\mu_{i,j}\\\\\n",
    "  =u\\sum_{i}\\sum_{j}n_{i,j}+\\sum_{i}u_{1}(i)\\sum_{j}n_{i,j}+\\sum_{j}u_{2}(j)\\sum_{i}n_{i,j} &+&\\sum_{i}\\sum_{j}n_{i,j}\\tau_{i}(v_{j}-\\bar{v})-\\sum_{i}\\sum_{j}\\mu_{i,j}\n",
    "\\end{eqnarray*}\n",
    "Entonces los coeficientes del modelo dado  son \n",
    "\\begin{eqnarray*}\n",
    "\\text{el coeficientes de $u$ es }  \\sum_{i}\\sum_{j}n_{i,j} \\text{  el de $u_{1}(i)$  es  }  \\sum_{j}n_{i,j}\\\\\n",
    "\\end{eqnarray*}\n",
    "\n",
    "\\begin{eqnarray*}\n",
    "\\text{el de $u_{2}(j)$ es } \\sum_{i}n_{i,j} \\text{  y para $\\tau_{i}(v_{j}-\\bar{v})$ es  } n_{i,j}.\n",
    "\\end{eqnarray*}\n",
    "\n",
    "y esto para cada $i$ y para cada $j$. Entonces, las estadísticas suficientes están dada por $\\left\\{\\sum_{i}\\sum_{j}n_{i,j}, \\sum_{j}n_{i,j},  \\sum_{i}n_{i,j}, n_{i,j} \\right\\}$.\n"
   ]
  },
  {
   "cell_type": "markdown",
   "metadata": {},
   "source": [
    "## Problema 5\n",
    "#### Solución"
   ]
  },
  {
   "cell_type": "markdown",
   "metadata": {},
   "source": [
    "Si definimos $\\mu_{i,j}=\\mu\\alpha_{i}\\beta_{j}$, y aplicamos logaritmo, tenemos:\n",
    "\\begin{equation}\n",
    "\\log(\\mu_{i,j})=\\log(\\mu)+\\log(\\alpha_{i})+\\log(\\beta_{j}),\n",
    "\\end{equation}\n",
    "bajo la restricción de que para una misma variable sume cero,\n",
    "$$\n",
    "0=\\sum_{i}\\log(\\alpha_{i})=\\sum_{h}\\log(\\alpha_{h})\n",
    "$$, entonces,\n",
    "\\begin{eqnarray*}\n",
    "0=\\sum_{i}\\log(\\alpha_{i})-\\sum_{h}\\log(\\alpha_{h})&=&\\sum_{i}\\log(\\alpha_{i})-\\sum_{h}\\log(\\alpha_{h})\\frac{I}{I}\n",
    "=\\sum_{i}\\left[\\log(\\alpha_{i})-\\frac{\\sum_{h}\\log(\\alpha_{h})}{I}\\right].\n",
    "\\end{eqnarray*}\n",
    "Por lo anteior\n",
    "\\begin{equation}\n",
    "u_{1}(i)=\\log(\\alpha_{i})-\\frac{\\sum_{h}\\log(\\alpha_{h})}{I} \\Rightarrow \\sum_{i}u_{1}(i)=0.\n",
    "\\end{equation}\n",
    "De manera analoga con:\n",
    "\\begin{equation}\n",
    "u_{2}(j)=\\log(\\alpha_{j})-\\frac{\\sum_{h}\\log(\\beta_{h})}{J} \\Rightarrow \\sum_{j}u_{2}(j)=0.\n",
    "\\end{equation}\n",
    "Como el modelo loglineal de independencia está dada por \n",
    "\\begin{equation*}\n",
    "\\log(\\mu_{i,j})=u+u_{1}(i)+u_{2}(j),\n",
    "\\end{equation*}\n",
    "este último lo podemos escribir como:\n",
    "\\begin{eqnarray*}\n",
    "\\log(\\mu_{i,j})&=&\\log(\\mu)+\\log(\\alpha_{i})+\\log(\\beta_{j})+\\left(\\frac{\\sum_{h}\\alpha_{h}}{I}+\\frac{\\sum_{h}\\beta_{h}}{J}\\right)-\\left(\\frac{\\sum_{h}\\alpha_{h}}{I}+\\frac{\\sum_{h}\\beta_{h}}{J}\\right)\\\\\n",
    "\\end{eqnarray*}\n",
    "hemos sumado un cero, \n",
    "\\begin{eqnarray*}\n",
    "\\log(\\mu_{i,j})&=&\\log(\\mu)+\\left(\\frac{\\sum_{h}\\alpha_{h}}{I}+\\frac{\\sum_{h}\\beta_{h}}{J}\\right)+\\log(\\alpha_{i})-\\frac{\\sum_{h}\\alpha_{h}}{I}+\\log(\\beta_{j})-\\frac{\\sum_{h}\\beta_{h}}{J}\\\\\n",
    "                      &=&u+u_{1}(i)+u_{2}(j) ,\n",
    "\\end{eqnarray*}\n",
    "donde  $u_{1}(i)=\\log(\\alpha_{i})-\\frac{\\sum_{h}\\alpha_{h}}{I}$, $u_{2}(j)=\\log(\\beta_{j})-\\frac{\\sum_{h}\\beta_{h}}{J}$ y $u=\\log(\\mu)+\\frac{\\sum_{h}\\alpha_{h}}{I}+\\frac{\\sum_{h}\\beta_{h}}{J}$. Se concluye la prueba \n"
   ]
  },
  {
   "cell_type": "markdown",
   "metadata": {},
   "source": [
    "## Problema 6\n",
    "#### Solución"
   ]
  },
  {
   "cell_type": "markdown",
   "metadata": {},
   "source": [
    "si definimos $u_{1}(i)=\\log(\\alpha_{i})-\\log(\\alpha_{1})$ y $u_{2}(j)=\\log(\\beta_{j})-\\log(\\beta_{1})$ entonces para $i=1$\n",
    "se cumple que \n",
    "\\begin{eqnarray*}\n",
    "u_{1}(1)&=&\\log(\\alpha_{1})-\\log(\\alpha_{1})=0 \\\\\n",
    "u_{2}(1)&=&\\log(\\beta_{1})-\\log(\\beta_{1})=0.\n",
    "\\end{eqnarray*}\n",
    "se cumple la restricción de evaluar un nivel base a cero.\n",
    "Si sustuimos los valores de $u_{1}(i)$ y $u_{2}(i)$, en \n",
    "\\begin{eqnarray*}\n",
    "\\log(\\mu)+\\log(\\alpha_{i})+\\log(\\beta_{j})&=&u+u_{1}(i)+u_{2}(j), \n",
    "\\end{eqnarray*}\n",
    "tenemos \n",
    "\\begin{equation*}\n",
    "\\log(\\mu)+\\log(\\alpha_{i})+\\log(\\beta_{j})=u+\\log(\\alpha_{i})-\\log(\\alpha_{1})+\\log(\\beta_{j})-\\log(\\beta_{1}).\n",
    "\\end{equation*}\n",
    "Simplificando la expresión anterior tenemos:\n",
    "\\begin{eqnarray*}u=\\log(\\mu)+\\log(\\alpha_{1})+\\log(\\beta_{1})\n",
    "\\end{eqnarray*}"
   ]
  },
  {
   "cell_type": "markdown",
   "metadata": {},
   "source": [
    "## Problema 7\n",
    "##### Solución"
   ]
  },
  {
   "cell_type": "markdown",
   "metadata": {},
   "source": [
    "Ahora vamos a ajustar un modelo, simetrico y quasi-simetrico. "
   ]
  },
  {
   "cell_type": "code",
   "execution_count": 2,
   "metadata": {},
   "outputs": [
    {
     "name": "stderr",
     "output_type": "stream",
     "text": [
      "Warning message:\n",
      "\"package 'gnm' was built under R version 3.3.3\""
     ]
    }
   ],
   "source": [
    "library(\"gnm\")"
   ]
  },
  {
   "cell_type": "code",
   "execution_count": 92,
   "metadata": {
    "collapsed": true
   },
   "outputs": [],
   "source": [
    "cafe= array(data=c(93, 9, 17, 6, 10,17, 46, 11, 4, 4,44, 11, \n",
    "155, 9, 12, 7, 0, 9, 15,2,10, 9, 12, 2, 27),\n",
    "dim = c(5,5), \n",
    "dimnames = list(\"primera\" = c( \"1\" ,\"2\" , \"3\", \"4\", \"5\"),\n",
    "\"segunda\"=c( \"1\" ,\"2\" , \"3\", \"4\", \"5\")))\n",
    "\n",
    "cafeTable0=as.data.frame(as.table(cafe))\n",
    "cafeTable1=ftable(cafe,row.vars=c(\"primera\"))\n"
   ]
  },
  {
   "cell_type": "code",
   "execution_count": 91,
   "metadata": {},
   "outputs": [
    {
     "data": {
      "text/plain": [
       "\n",
       "Call:\n",
       "gnm(formula = Freq ~ Symm(primera, segunda), family = poisson, \n",
       "    data = cafeTable0)\n",
       "\n",
       "Deviance Residuals: \n",
       "       Min          1Q      Median          3Q         Max  \n",
       "-2.670e+00  -3.332e-08   0.000e+00   0.000e+00   2.291e+00  \n",
       "\n",
       "Coefficients:\n",
       "                         Estimate Std. Error z value Pr(>|z|)    \n",
       "(Intercept)                4.5326     0.1037  43.711  < 2e-16 ***\n",
       "Symm(primera, segunda)12  -1.9677     0.2218  -8.870  < 2e-16 ***\n",
       "Symm(primera, segunda)13  -1.1149     0.1648  -6.767 1.32e-11 ***\n",
       "Symm(primera, segunda)14  -2.6608     0.2961  -8.986  < 2e-16 ***\n",
       "Symm(primera, segunda)15  -2.2300     0.2465  -9.047  < 2e-16 ***\n",
       "Symm(primera, segunda)22  -0.7040     0.1803  -3.905 9.41e-05 ***\n",
       "Symm(primera, segunda)23  -2.1347     0.2371  -9.004  < 2e-16 ***\n",
       "Symm(primera, segunda)24  -3.8395     0.5106  -7.519 5.52e-14 ***\n",
       "Symm(primera, segunda)25  -2.6608     0.2961  -8.986  < 2e-16 ***\n",
       "Symm(primera, segunda)33   0.5108     0.1312   3.895 9.84e-05 ***\n",
       "Symm(primera, segunda)34  -2.3354     0.2575  -9.069  < 2e-16 ***\n",
       "Symm(primera, segunda)35  -2.0477     0.2290  -8.944  < 2e-16 ***\n",
       "Symm(primera, segunda)44  -1.8245     0.2782  -6.557 5.48e-11 ***\n",
       "Symm(primera, segunda)45  -3.8395     0.5106  -7.519 5.52e-14 ***\n",
       "Symm(primera, segunda)55  -1.2368     0.2186  -5.657 1.54e-08 ***\n",
       "---\n",
       "Signif. codes:  0 '***' 0.001 '**' 0.01 '*' 0.05 '.' 0.1 ' ' 1\n",
       "\n",
       "(Dispersion parameter for poisson family taken to be 1)\n",
       "\n",
       "Residual deviance: 22.473 on 10 degrees of freedom\n",
       "AIC: 157.01\n",
       "\n",
       "Number of iterations: 5\n"
      ]
     },
     "metadata": {},
     "output_type": "display_data"
    }
   ],
   "source": [
    "#Usando la funcion gnm ajustamos un modelo simetrico \n",
    "s = gnm(Freq∼Symm(primera,segunda),data=cafeTable0,family=poisson)\n",
    "summary(s)"
   ]
  },
  {
   "cell_type": "code",
   "execution_count": 93,
   "metadata": {},
   "outputs": [
    {
     "name": "stdout",
     "output_type": "stream",
     "text": [
      "[1] \"Tabla original\"\n"
     ]
    },
    {
     "data": {
      "text/plain": [
       "        segunda   1   2   3   4   5\n",
       "primera                            \n",
       "1                93  17  44   7  10\n",
       "2                 9  46  11   0   9\n",
       "3                17  11 155   9  12\n",
       "4                 6   4   9  15   2\n",
       "5                10   4  12   2  27"
      ]
     },
     "metadata": {},
     "output_type": "display_data"
    },
    {
     "name": "stdout",
     "output_type": "stream",
     "text": [
      "[1] \"Frecuencias Estimadas\"\n"
     ]
    },
    {
     "data": {
      "text/html": [
       "<table>\n",
       "<tbody>\n",
       "\t<tr><td>93.0 </td><td>13.0 </td><td> 30.5</td><td> 6.5 </td><td>10.0 </td></tr>\n",
       "\t<tr><td>13.0 </td><td>46.0 </td><td> 11.0</td><td> 2.0 </td><td> 6.5 </td></tr>\n",
       "\t<tr><td>30.5 </td><td>11.0 </td><td>155.0</td><td> 9.0 </td><td>12.0 </td></tr>\n",
       "\t<tr><td> 6.5 </td><td> 2.0 </td><td>  9.0</td><td>15.0 </td><td> 2.0 </td></tr>\n",
       "\t<tr><td>10.0 </td><td> 6.5 </td><td> 12.0</td><td> 2.0 </td><td>27.0 </td></tr>\n",
       "</tbody>\n",
       "</table>\n"
      ],
      "text/latex": [
       "\\begin{tabular}{lllll}\n",
       "\t 93.0  & 13.0  &  30.5 &  6.5  & 10.0 \\\\\n",
       "\t 13.0  & 46.0  &  11.0 &  2.0  &  6.5 \\\\\n",
       "\t 30.5  & 11.0  & 155.0 &  9.0  & 12.0 \\\\\n",
       "\t  6.5  &  2.0  &   9.0 & 15.0  &  2.0 \\\\\n",
       "\t 10.0  &  6.5  &  12.0 &  2.0  & 27.0 \\\\\n",
       "\\end{tabular}\n"
      ],
      "text/markdown": [
       "\n",
       "| 93.0  | 13.0  |  30.5 |  6.5  | 10.0  | \n",
       "| 13.0  | 46.0  |  11.0 |  2.0  |  6.5  | \n",
       "| 30.5  | 11.0  | 155.0 |  9.0  | 12.0  | \n",
       "|  6.5  |  2.0  |   9.0 | 15.0  |  2.0  | \n",
       "| 10.0  |  6.5  |  12.0 |  2.0  | 27.0  | \n",
       "\n",
       "\n"
      ],
      "text/plain": [
       "     [,1] [,2] [,3]  [,4] [,5]\n",
       "[1,] 93.0 13.0  30.5  6.5 10.0\n",
       "[2,] 13.0 46.0  11.0  2.0  6.5\n",
       "[3,] 30.5 11.0 155.0  9.0 12.0\n",
       "[4,]  6.5  2.0   9.0 15.0  2.0\n",
       "[5,] 10.0  6.5  12.0  2.0 27.0"
      ]
     },
     "metadata": {},
     "output_type": "display_data"
    }
   ],
   "source": [
    "print(\"Tabla original\")\n",
    "cafeTable1\n",
    "c=as.vector(round(as.data.frame(as.table(fitted.values(s)))[,2], digits = 2))\n",
    "print(\"Frecuencias Estimadas\")\n",
    "matrix(c,ncol=5)"
   ]
  },
  {
   "cell_type": "code",
   "execution_count": 95,
   "metadata": {
    "collapsed": true
   },
   "outputs": [],
   "source": [
    "QS = gnm(Freq∼Symm(primera,segunda)+primera,data=cafeTable0,family=poisson)"
   ]
  },
  {
   "cell_type": "code",
   "execution_count": 96,
   "metadata": {},
   "outputs": [
    {
     "name": "stdout",
     "output_type": "stream",
     "text": [
      "[1] \"Tabla original\"\n"
     ]
    },
    {
     "data": {
      "text/plain": [
       "        segunda   1   2   3   4   5\n",
       "primera                            \n",
       "1                93  17  44   7  10\n",
       "2                 9  46  11   0   9\n",
       "3                17  11 155   9  12\n",
       "4                 6   4   9  15   2\n",
       "5                10   4  12   2  27"
      ]
     },
     "metadata": {},
     "output_type": "display_data"
    },
    {
     "name": "stdout",
     "output_type": "stream",
     "text": [
      "[1] \"Frecuencias Estimadas\"\n"
     ]
    },
    {
     "data": {
      "text/html": [
       "<table>\n",
       "<tbody>\n",
       "\t<tr><td>93.00 </td><td>16.78 </td><td> 40.88</td><td> 7.45 </td><td>12.89 </td></tr>\n",
       "\t<tr><td> 9.22 </td><td>46.00 </td><td> 11.60</td><td> 1.70 </td><td> 6.49 </td></tr>\n",
       "\t<tr><td>20.12 </td><td>10.40 </td><td>155.00</td><td> 7.16 </td><td>11.32 </td></tr>\n",
       "\t<tr><td> 5.55 </td><td> 2.30 </td><td> 10.84</td><td>15.00 </td><td> 2.30 </td></tr>\n",
       "\t<tr><td> 7.11 </td><td> 6.51 </td><td> 12.68</td><td> 1.70 </td><td>27.00 </td></tr>\n",
       "</tbody>\n",
       "</table>\n"
      ],
      "text/latex": [
       "\\begin{tabular}{lllll}\n",
       "\t 93.00  & 16.78  &  40.88 &  7.45  & 12.89 \\\\\n",
       "\t  9.22  & 46.00  &  11.60 &  1.70  &  6.49 \\\\\n",
       "\t 20.12  & 10.40  & 155.00 &  7.16  & 11.32 \\\\\n",
       "\t  5.55  &  2.30  &  10.84 & 15.00  &  2.30 \\\\\n",
       "\t  7.11  &  6.51  &  12.68 &  1.70  & 27.00 \\\\\n",
       "\\end{tabular}\n"
      ],
      "text/markdown": [
       "\n",
       "| 93.00  | 16.78  |  40.88 |  7.45  | 12.89  | \n",
       "|  9.22  | 46.00  |  11.60 |  1.70  |  6.49  | \n",
       "| 20.12  | 10.40  | 155.00 |  7.16  | 11.32  | \n",
       "|  5.55  |  2.30  |  10.84 | 15.00  |  2.30  | \n",
       "|  7.11  |  6.51  |  12.68 |  1.70  | 27.00  | \n",
       "\n",
       "\n"
      ],
      "text/plain": [
       "     [,1]  [,2]  [,3]   [,4]  [,5] \n",
       "[1,] 93.00 16.78  40.88  7.45 12.89\n",
       "[2,]  9.22 46.00  11.60  1.70  6.49\n",
       "[3,] 20.12 10.40 155.00  7.16 11.32\n",
       "[4,]  5.55  2.30  10.84 15.00  2.30\n",
       "[5,]  7.11  6.51  12.68  1.70 27.00"
      ]
     },
     "metadata": {},
     "output_type": "display_data"
    }
   ],
   "source": [
    "print(\"Tabla original\")\n",
    "cafeTable1\n",
    "c=as.vector(round(as.data.frame(as.table(fitted.values(QS)))[,2], digits = 2))\n",
    "print(\"Frecuencias Estimadas\")\n",
    "matrix(c,ncol=5)"
   ]
  },
  {
   "cell_type": "code",
   "execution_count": 98,
   "metadata": {},
   "outputs": [
    {
     "data": {
      "text/plain": [
       "\n",
       "Call:\n",
       "gnm(formula = Freq ~ Symm(primera, segunda) + primera, family = poisson, \n",
       "    data = cafeTable0)\n",
       "\n",
       "Deviance Residuals: \n",
       "    Min       1Q   Median       3Q      Max  \n",
       "-1.8419  -0.1925   0.0000   0.1999   1.0215  \n",
       "\n",
       "Coefficients:\n",
       "                         Estimate Std. Error z value Pr(>|z|)    \n",
       "(Intercept)                4.5326     0.1037  43.711  < 2e-16 ***\n",
       "Symm(primera, segunda)12  -1.7122     0.2433  -7.036 1.98e-12 ***\n",
       "Symm(primera, segunda)13  -0.8220     0.1799  -4.568 4.92e-06 ***\n",
       "Symm(primera, segunda)14  -2.5249     0.3319  -7.608 2.78e-14 ***\n",
       "Symm(primera, segunda)15  -1.9760     0.2677  -7.382 1.56e-13 ***\n",
       "Symm(primera, segunda)22  -0.1045     0.3348  -0.312 0.754932    \n",
       "Symm(primera, segunda)23  -1.4821     0.3179  -4.662 3.14e-06 ***\n",
       "Symm(primera, segunda)24  -3.4047     0.5716  -5.957 2.57e-09 ***\n",
       "Symm(primera, segunda)25  -2.0634     0.3788  -5.447 5.12e-08 ***\n",
       "Symm(primera, segunda)33   1.2196     0.2556   4.772 1.83e-06 ***\n",
       "Symm(primera, segunda)34  -1.8558     0.3628  -5.116 3.12e-07 ***\n",
       "Symm(primera, segunda)35  -1.3972     0.3169  -4.409 1.04e-05 ***\n",
       "Symm(primera, segunda)44  -1.5312     0.4477  -3.420 0.000626 ***\n",
       "Symm(primera, segunda)45  -3.4064     0.5734  -5.941 2.83e-09 ***\n",
       "Symm(primera, segunda)55  -0.6413     0.3661  -1.752 0.079808 .  \n",
       "primera2                  -0.5994     0.2822  -2.124 0.033633 *  \n",
       "primera3                  -0.7087     0.2194  -3.231 0.001233 ** \n",
       "primera4                  -0.2933     0.3508  -0.836 0.403030    \n",
       "primera5                  -0.5954     0.2937  -2.028 0.042595 *  \n",
       "---\n",
       "Signif. codes:  0 '***' 0.001 '**' 0.01 '*' 0.05 '.' 0.1 ' ' 1\n",
       "\n",
       "(Dispersion parameter for poisson family taken to be 1)\n",
       "\n",
       "Residual deviance: 9.974 on 6 degrees of freedom\n",
       "AIC: 152.51\n",
       "\n",
       "Number of iterations: 5\n"
      ]
     },
     "metadata": {},
     "output_type": "display_data"
    }
   ],
   "source": [
    "summary(QS)"
   ]
  }
 ],
 "metadata": {
  "anaconda-cloud": {},
  "kernelspec": {
   "display_name": "R",
   "language": "R",
   "name": "ir"
  },
  "language_info": {
   "codemirror_mode": "r",
   "file_extension": ".r",
   "mimetype": "text/x-r-source",
   "name": "R",
   "pygments_lexer": "r",
   "version": "3.3.2"
  }
 },
 "nbformat": 4,
 "nbformat_minor": 1
}
