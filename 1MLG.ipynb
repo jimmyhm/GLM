{
 "cells": [
  {
   "cell_type": "markdown",
   "metadata": {},
   "source": [
    "# Modelos Lineales Generalizados  \n",
    "## Jimmy Hérnandez Morales "
   ]
  },
  {
   "cell_type": "markdown",
   "metadata": {},
   "source": [
    "### Problema 1\n",
    "#### Caso Poisson\n",
    "Para $N$ observaciones independientes la log verosimilitud está dada por:\n",
    "\\begin{equation}\n",
    "\\sum_{j}\\frac{\\partial L_{i}}{\\partial\\beta_{j}}= \\sum_{j} \\frac{\\partial  \\left[\\frac{ y_{i}\\theta_{i}-b(\\theta_{i}}{a(\\phi)}\\right] }{\\partial\\beta_{j}} -\\frac{c(y_{i},\\phi)}{\\partial\\beta_{j}}\n",
    "\\end{equation}\n",
    "\n",
    "Derivando tenemos la expresión:\n",
    "\\begin{equation}\n",
    "\\sum_{i=1}^{N}\\frac{(y_{i}-\\mu_{i})x_{i,j}}{Var(Y_{i})}\\frac{\\partial\\mu_{i}}{\\partial \\eta_{i}}=0.\n",
    "\\end{equation}\n",
    "\n",
    "\n",
    "Supongamos que el componente aleatorio tiene distribución poisson. Entonces en este caso su función d densidad es  \n",
    "\\begin{equation*}\n",
    "f(y;\\mu)=\\frac{\\mu^{y}}{y!}\\exp(-\\mu),\n",
    "\\end{equation*}\n",
    "y escrito en la forma de la familia exponencial, \n",
    "\\begin{equation*}\n",
    "f(y;\\mu)=\\exp\\left\\{y\\log(\\mu)-\\mu-\\log(y!)\\right\\},\n",
    "\\end{equation*}\n",
    "donde $\\theta=\\log(\\mu)$, $\\phi=1$ y $b(\\theta)=\\exp\\{\\theta\\}=\\mu$, la liga canónica está dada por $\\theta=\\log(\\mu)$. Como, si $\\log(\\mu_{i})=\\eta_{i}$,derivando $\\frac{\\partial\\mu_{i}}{\\partial\\eta_{i}}=\\exp(\\eta_{i})$. Sabemos también que en este caso $Var(Y_{i})=\\mu_{i}$. Finalmente la ecuación anterior queda como:\n",
    "\\begin{eqnarray}\n",
    "\\sum_{i=1}^{N}\\frac{(y_{i}-\\mu_{i})x_{i,j}}{\\mu_{i}}\\exp(\\eta_{i})=\\sum_{i=1}^{N}\\left(\\frac{y_{i}}{\\mu_{i}}-1\\right)x_{i,j}\\exp(\\eta_{i})=0.\n",
    "\\end{eqnarray}\n",
    "Pero, como $\\mu_{i}$ es tal que $\\log(\\mu_{i})=\\eta_{i}$ entonces, la ecuación anterior es:\n",
    "\\begin{equation}\n",
    "\\sum_{i=1}^{N}(y_{i}-\\mu_{i})x_{i,j}=0.\n",
    "\\end{equation}\n",
    "La forma de la segunda derivada es:\n",
    "\\begin{equation}\n",
    "\\frac{\\partial^{2}L}{\\partial\\beta_{j}\\partial\\beta_{k}}=\\sum_{i=1}^{N}\\left[\\frac{(y_{i}-\\mu_{i})}{a_{i}(\\phi)}\\frac{\\partial}{\\partial\\beta_{k}}\\left(w\\frac{\\partial\\eta_{i}}{\\partial\\mu_{i}}\\right)+\\left(w\\frac{\\partial\\eta_{i}}{\\partial\\mu_{i}}\\right)x_{ij}\\frac{\\partial(y_{i}-\\mu_{i})}{\\partial\\beta_{k}}\\right],\n",
    "\\end{equation}\n",
    "donde hemos denotado $w=\\frac{1}{Var(Y_{i})}\\left(\\frac{\\partial\\mu}{\\partial\\eta_{i}}\\right)^{2}$.\n",
    "Como la liga canonica es $g(\\mu)=\\log(u)$ y $\\log(u)=x_i\\beta$ donde $\\beta$ es un vector columna entonces, $x_{i}\\beta=\\sum_{l=1}^{p}x_{i,l}\\beta_{l}$ y  $\\mu_{i}=\\exp\\left(\\sum_{l=1}^{p}x_{i,l}\\beta_{l}\\right)$. Quedando la ecuación:\n",
    "\\begin{equation*}\n",
    "\\sum_{i=1}^{N}\\left(y_{i}-\\exp\\left(\\sum_{l=1}^{p}x_{i,l}\\beta_{l}\\right)\\right)x_{i,j}=0,\n",
    "\\end{equation*}\n",
    "Derivando la expresión anterior \n",
    "\n",
    "\\begin{eqnarray}\n",
    "\\frac{\\partial}{\\partial\\beta_{k}}\\sum_{i=1}^{N}\\left(y_{i}-\\exp\\left(\\sum_{l=1}^{p}x_{i,l}\\beta_{l}\\right)\\right)x_{i,j}&=&-\\frac{\\partial}{\\partial\\beta_{k}}\\sum_{i=1}^{N}\\exp\\left(\\sum_{l=1}^{p}x_{i,l}\\beta_{l}\\right)x_{i,j}\\\\\n",
    "\\end{eqnarray}\n",
    "\n",
    "Derivando respecto a $\\beta_k$ tenemos,\n",
    "\\begin{eqnarray}\n",
    "-\\sum_{i=1}^{N}x_{i,j}\\frac{\\partial}{\\partial\\beta_{k}}\\exp\\left(\\sum_{l=1}^{p}x_{i,l}\\beta_{l}\\right)\n",
    "&=&-\\sum_{i=1}^{N}\\exp\\left(\\sum_{l=1}^{p}x_{i,l}\\beta_{l}\\right)x_{i,j}x_{i,k}\\\\\n",
    "&=&-\\sum_{i=1}^{N}\\mu_{i}x_{i,j}x_{i,k}.\n",
    "\\end{eqnarray}\n",
    "#### Caso Normal \n",
    "Supongamos que $Y_{i}\\sim N(\\mu_{i}, \\sigma^{2})$, la liga canonica es la identidad, $\\mu_{i}=\\eta_{i}$, entonces la forma de la primera derivada es,\n",
    "\\begin{eqnarray}\n",
    "\\sum_{i=1}^{N}\\frac{(y_{i}-\\mu_{i})x_{i,j}}{Var(Y_{i})}1&=&\\sum_{i=1}^{N}\\frac{(y_{i}-\\mu_{i})x_{i,j}}{\\sigma^{2}}\\\\\n",
    "&=&\\sum_{i=1}^{N}\\frac{(y_{i}-x_{i}\\beta)x_{i,j}}{\\sigma^{2}}\\\\\n",
    "&=&0\n",
    "\\end{eqnarray}\n",
    "La segunda derivada para el caso de la normal dado que la liga canónica es la identidad, \n",
    "\\begin{equation*}\n",
    "g(\\mu_{i})=\\mu_{i}=\\sum_{l=1}^{p}x_{i,l}\\beta_{l}, \n",
    "\\end{equation*}\n",
    "entonces calculamos la segunda derivada respecto a $\\beta_k$\n",
    "\\begin{eqnarray*}\n",
    "\\frac{\\partial}{\\partial\\beta_{k}}\\sum_{i=1}^{N}\\frac{(y_{i}-x_{i}\\beta)x_{i,j}}{\\sigma^{2}}&=&\\frac{\\partial}{\\partial\\beta_{k}}\\sum_{i=1}^{N}\\frac{(y_{i}-\\sum_{l=1}^{p}x_{i,l}\\beta_{l})x_{i,j}}{\\sigma^{2}}\\\\\n",
    "&=&-\\frac{1}{\\sigma^{2}}\\sum_{i=1}^{N}x_{i,j}\\frac{\\partial}{\\partial\\beta_{k}}\\sum_{l=1}^{p}x_{i,l}\\beta_{l}\\\\\n",
    "&=&-\\frac{1}{\\sigma^{2}}\\sum_{i=1}^{N}x_{i,j}x_{i,k}.\n",
    "\\end{eqnarray*}\n"
   ]
  },
  {
   "cell_type": "markdown",
   "metadata": {},
   "source": [
    "### Problema 2\n",
    "Las  segundas derivadas dadas  en para ambos casos, no dependen de la observación $y_{i}$,  ahora obtenemos las esperanzas:\n",
    "\n",
    "\\begin{eqnarray*}\n",
    "\\mathbf{E}\\frac{\\partial^{2}L}{\\partial\\beta_{j}\\partial\\beta_{k}}&=&-\\mathbf{E}\\sum_{i=1}^{N}\\mu_{i}x_{i,j}x_{i,k}\\\\\n",
    "&=&-\\sum_{i=1}^{N}\\mu_{i}x_{i,j}x_{i,k}\\mbox{ y }\\\\\n",
    "\\mathbf{E}\\frac{\\partial^{2}L}{\\partial\\beta_{j}\\partial\\beta_{k}}&=&-\\mathbf{E}\\frac{1}{\\sigma^{2}}\\sum_{i=1}^{N}x_{i,j}x_{i,k}\\\\\n",
    "&=&\\frac{1}{\\sigma^{2}}\\sum_{i=1}^{N}x_{i,j}x_{i,k}.\n",
    "\\end{eqnarray*}\n",
    "y se concluye el resultado."
   ]
  },
  {
   "cell_type": "markdown",
   "metadata": {},
   "source": [
    "### Problema 3\n",
    "Para un modelo de regresión logistica tenemos que la varibale toma un valor de $1$ o $0$ entonces, \n",
    "\\begin{eqnarray}\n",
    "log \\dfrac{\\pi(0)}{1-\\pi(0)}&=&\\alpha\\\\\n",
    "log \\dfrac{\\pi(1)}{1-\\pi(1)}&=&\\alpha+\\beta \n",
    "\\end{eqnarray}\n",
    "restando ambas \n",
    "\\begin{eqnarray}\n",
    "log \\dfrac{\\pi(1)}{1-\\pi(1)}-log \\dfrac{\\pi(0)}{1-\\pi(0)}=\\beta \n",
    "\\end{eqnarray}\n",
    "Por tanto \n",
    "\n",
    "\\begin{eqnarray}\n",
    "\\beta=log \\dfrac{\\pi(1)(1-\\pi(0))}{\\pi(0)(1-\\pi(1))}\n",
    "\\end{eqnarray}\n",
    "\n",
    "\n"
   ]
  },
  {
   "cell_type": "code",
   "execution_count": 3,
   "metadata": {
    "collapsed": false
   },
   "outputs": [],
   "source": [
    "require(MASS)\n",
    "require(foreign)\n",
    "require(ggplot2)\n",
    "require(MASS)\n",
    "require(Hmisc)\n",
    "require(reshape2)"
   ]
  },
  {
   "cell_type": "markdown",
   "metadata": {},
   "source": [
    "### Problema 5\n",
    "Los datos representan el numero de insectos muertos(kill) de un total (number)por tres venenos\n",
    "diferentes (poison) en dosis en escala logaritmica(Logdose). \n",
    "Determina la dosis letal 50 para cada veneno y di cual es el mas efectivo\n",
    "en este caso. ¿ es lo mismo si lo que nos interes es que se muera el 80% de los insectos?"
   ]
  },
  {
   "cell_type": "code",
   "execution_count": 35,
   "metadata": {
    "collapsed": false
   },
   "outputs": [],
   "source": [
    "y0=c(44/50,42/49,24/46,16/48,6/50)\n",
    "x0=c(1.01,0.89,0.71,0.58,0.41)\n",
    "number0=c(50,49,46,48,50)\n",
    "\n",
    "y1=c(48/48,47/50,47/49,34/48,18/48,16/49)\n",
    "x1=c(1.7,1.61,1.48,1.31,1,0.71)\n",
    "number1=c(48,50,49,48,48,49)\n",
    "\n",
    "y2=c(48/50,43/46,38/48,27/46,22/46,7/47)\n",
    "x2=c(1.4,1.31,1.18,1.0,0.71,0.4)\n",
    "number2=c(50,46,48,46,46,47)"
   ]
  },
  {
   "cell_type": "markdown",
   "metadata": {},
   "source": [
    "Aplicamos el modelo para los bioensayos con un vector de pesos, sabemos ademas que la dosis\n",
    "letal 50 es $-\\dfrac{\\alpha}{\\beta}$, teniendo esto en cuenta las dos correspondientes se muestran\n",
    "los siguientes bloques"
   ]
  },
  {
   "cell_type": "code",
   "execution_count": 58,
   "metadata": {
    "collapsed": false
   },
   "outputs": [
    {
     "data": {
      "text/plain": [
       "\n",
       "Call:\n",
       "glm(formula = y0 ~ x0, family = binomial(link = probit), weights = number0)\n",
       "\n",
       "Deviance Residuals: \n",
       "       1         2         3         4         5  \n",
       "-0.75348   0.99673  -0.24977   0.05636  -0.10892  \n",
       "\n",
       "Coefficients:\n",
       "            Estimate Std. Error z value Pr(>|z|)    \n",
       "(Intercept)  -2.8594     0.3481  -8.214   <2e-16 ***\n",
       "x0            4.1691     0.4752   8.774   <2e-16 ***\n",
       "---\n",
       "Signif. codes:  0 '***' 0.001 '**' 0.01 '*' 0.05 '.' 0.1 ' ' 1\n",
       "\n",
       "(Dispersion parameter for binomial family taken to be 1)\n",
       "\n",
       "    Null deviance: 96.6881  on 4  degrees of freedom\n",
       "Residual deviance:  1.6386  on 3  degrees of freedom\n",
       "AIC: 24.859\n",
       "\n",
       "Number of Fisher Scoring iterations: 4\n"
      ]
     },
     "metadata": {},
     "output_type": "display_data"
    },
    {
     "data": {
      "text/plain": [
       "\n",
       "Call:\n",
       "glm(formula = y1 ~ x1, family = binomial(link = probit), weights = number1)\n",
       "\n",
       "Deviance Residuals: \n",
       "      1        2        3        4        5        6  \n",
       " 1.7598  -0.2226   1.5739  -1.4346  -1.7851   1.6390  \n",
       "\n",
       "Coefficients:\n",
       "            Estimate Std. Error z value Pr(>|z|)    \n",
       "(Intercept)  -2.6317     0.3427  -7.680 1.59e-14 ***\n",
       "x1            2.6397     0.2797   9.436  < 2e-16 ***\n",
       "---\n",
       "Signif. codes:  0 '***' 0.001 '**' 0.01 '*' 0.05 '.' 0.1 ' ' 1\n",
       "\n",
       "(Dispersion parameter for binomial family taken to be 1)\n",
       "\n",
       "    Null deviance: 123.963  on 5  degrees of freedom\n",
       "Residual deviance:  13.555  on 4  degrees of freedom\n",
       "AIC: 35.699\n",
       "\n",
       "Number of Fisher Scoring iterations: 5\n"
      ]
     },
     "metadata": {},
     "output_type": "display_data"
    },
    {
     "data": {
      "text/plain": [
       "\n",
       "Call:\n",
       "glm(formula = y2 ~ x2, family = binomial(link = probit), weights = number2)\n",
       "\n",
       "Deviance Residuals: \n",
       "       1         2         3         4         5         6  \n",
       " 0.78224   0.83435  -0.67481  -1.46544   1.01373  -0.05189  \n",
       "\n",
       "Coefficients:\n",
       "            Estimate Std. Error z value Pr(>|z|)    \n",
       "(Intercept)  -2.0452     0.2717  -7.527 5.19e-14 ***\n",
       "x2            2.5396     0.2702   9.400  < 2e-16 ***\n",
       "---\n",
       "Signif. codes:  0 '***' 0.001 '**' 0.01 '*' 0.05 '.' 0.1 ' ' 1\n",
       "\n",
       "(Dispersion parameter for binomial family taken to be 1)\n",
       "\n",
       "    Null deviance: 111.4216  on 5  degrees of freedom\n",
       "Residual deviance:   4.9413  on 4  degrees of freedom\n",
       "AIC: 30.56\n",
       "\n",
       "Number of Fisher Scoring iterations: 4\n"
      ]
     },
     "metadata": {},
     "output_type": "display_data"
    }
   ],
   "source": [
    "probit0 <- glm(y0 ~ x0,family=binomial(link=probit),weights=number0) \n",
    "probit1 <- glm(y1 ~ x1,family=binomial(link=probit),weights=number1) \n",
    "probit2 <- glm(y2 ~ x2,family=binomial(link=probit),weights=number2) \n",
    "\n",
    "summary(probit0)\n",
    "summary(probit1)\n",
    "summary(probit2)\n"
   ]
  },
  {
   "cell_type": "code",
   "execution_count": 63,
   "metadata": {
    "collapsed": false
   },
   "outputs": [
    {
     "data": {
      "text/html": [
       "<strong>(Intercept):</strong> 0.685844071946358"
      ],
      "text/latex": [
       "\\textbf{(Intercept):} 0.685844071946358"
      ],
      "text/markdown": [
       "**(Intercept):** 0.685844071946358"
      ],
      "text/plain": [
       "(Intercept) \n",
       "  0.6858441 "
      ]
     },
     "metadata": {},
     "output_type": "display_data"
    },
    {
     "data": {
      "text/html": [
       "<strong>(Intercept):</strong> 0.996985093230875"
      ],
      "text/latex": [
       "\\textbf{(Intercept):} 0.996985093230875"
      ],
      "text/markdown": [
       "**(Intercept):** 0.996985093230875"
      ],
      "text/plain": [
       "(Intercept) \n",
       "  0.9969851 "
      ]
     },
     "metadata": {},
     "output_type": "display_data"
    },
    {
     "data": {
      "text/html": [
       "<strong>(Intercept):</strong> 0.805348766562093"
      ],
      "text/latex": [
       "\\textbf{(Intercept):} 0.805348766562093"
      ],
      "text/markdown": [
       "**(Intercept):** 0.805348766562093"
      ],
      "text/plain": [
       "(Intercept) \n",
       "  0.8053488 "
      ]
     },
     "metadata": {},
     "output_type": "display_data"
    }
   ],
   "source": [
    "#Dosis para cada uno de los venenos son \n",
    "#1\n",
    "D50R=-probit0$coefficients[1]/probit0$coefficients[2]\n",
    "D50D=-probit1$coefficients[1]/probit1$coefficients[2]\n",
    "D50M=-probit2$coefficients[1]/probit2$coefficients[2]\n",
    "D50R\n",
    "D50D\n",
    "D50M"
   ]
  },
  {
   "cell_type": "markdown",
   "metadata": {},
   "source": [
    "### Problema 6\n",
    "Los datos provienen de un estudio para investigar el efecto de un tratamiento con “vinicristine” en pacientes con neuralgias ocasionadas por herpes. Las variables están descritas en la tabla. El objetivo es ver si el tratamiento\n",
    "funciona o no."
   ]
  },
  {
   "cell_type": "code",
   "execution_count": 5,
   "metadata": {
    "collapsed": true
   },
   "outputs": [],
   "source": [
    "med<-read.csv(\"Medicamentos.csv\",header=TRUE,sep=\":\")"
   ]
  },
  {
   "cell_type": "code",
   "execution_count": 6,
   "metadata": {
    "collapsed": true
   },
   "outputs": [],
   "source": [
    "pain<-factor(med$Pain)\n",
    "trat<-factor(med$trat)\n",
    "gen<-factor(med$gen)\n",
    "age<-med$age\n",
    "dur<-med$durat"
   ]
  },
  {
   "cell_type": "code",
   "execution_count": 9,
   "metadata": {
    "collapsed": false
   },
   "outputs": [],
   "source": [
    "#aplicamos un modelo logistico con la variable de respuesta si el dolor se alivia o en caso contrario\n",
    "g<-glm(pain ~ trat+gen+dur+age,data = med, \n",
    "       family = binomial(link = logit))"
   ]
  },
  {
   "cell_type": "code",
   "execution_count": 8,
   "metadata": {
    "collapsed": false
   },
   "outputs": [
    {
     "data": {
      "text/plain": [
       "\n",
       "Call:\n",
       "glm(formula = pain ~ trat + gen + dur + age, family = binomial(link = logit), \n",
       "    data = med)\n",
       "\n",
       "Deviance Residuals: \n",
       "     Min        1Q    Median        3Q       Max  \n",
       "-1.86678  -0.00006  -0.00002   0.39596   1.32876  \n",
       "\n",
       "Coefficients:\n",
       "              Estimate Std. Error z value Pr(>|z|)\n",
       "(Intercept)  -14.76390 5436.90185  -0.003    0.998\n",
       "trat          23.79261 5436.89549   0.004    0.997\n",
       "genM          -2.57063    1.96532  -1.308    0.191\n",
       "dur            0.05349    0.06639   0.806    0.420\n",
       "age           -0.11491    0.12294  -0.935    0.350\n",
       "\n",
       "(Dispersion parameter for binomial family taken to be 1)\n",
       "\n",
       "    Null deviance: 24.0569  on 17  degrees of freedom\n",
       "Residual deviance:  9.4698  on 13  degrees of freedom\n",
       "AIC: 19.47\n",
       "\n",
       "Number of Fisher Scoring iterations: 19\n"
      ]
     },
     "metadata": {},
     "output_type": "display_data"
    }
   ],
   "source": [
    "summary(g)"
   ]
  },
  {
   "cell_type": "markdown",
   "metadata": {},
   "source": [
    "Como pudimos observar las variables explicativas no son estadísticamente significativas, entonces podemos\n",
    "decir que  no podemos  establecer una relación causal entre el tramiento y el hecho de que el dolor se alivia o no,\n",
    "tampoco lo son la edad, la duración y el genero. "
   ]
  },
  {
   "cell_type": "markdown",
   "metadata": {},
   "source": [
    "### Problema 7\n",
    "El archivo tarealog1.xls contiene una variable explicativa uni y cuatro variables\n",
    "respuesta, haz los cuatro ajustes y di que observas, trata de explicarlo en términos\n",
    "de la relación de las variables (explicativa y respuesta)."
   ]
  },
  {
   "cell_type": "code",
   "execution_count": 16,
   "metadata": {
    "collapsed": true
   },
   "outputs": [],
   "source": [
    "dta<-read.csv(\"tarealog1.csv\",header=TRUE,sep=\":\") "
   ]
  },
  {
   "cell_type": "code",
   "execution_count": 19,
   "metadata": {
    "collapsed": false
   },
   "outputs": [],
   "source": [
    "uni<-dta$uni\n",
    "y1=factor(dta$y1)\n",
    "y2=factor(dta$y2)\n",
    "y3=factor(dta$y3)\n",
    "y4=factor(dta$y4)"
   ]
  },
  {
   "cell_type": "code",
   "execution_count": 20,
   "metadata": {
    "collapsed": false
   },
   "outputs": [
    {
     "data": {
      "text/plain": [
       "\n",
       "Call:\n",
       "glm(formula = y1 ~ uni, family = binomial(link = logit), data = dta)\n",
       "\n",
       "Deviance Residuals: \n",
       "    Min       1Q   Median       3Q      Max  \n",
       "-1.7133  -1.4424   0.7855   0.8747   0.9783  \n",
       "\n",
       "Coefficients:\n",
       "            Estimate Std. Error z value Pr(>|z|)\n",
       "(Intercept)   0.4817     0.4266   1.129    0.259\n",
       "uni           0.7495     0.7694   0.974    0.330\n",
       "\n",
       "(Dispersion parameter for binomial family taken to be 1)\n",
       "\n",
       "    Null deviance: 122.17  on 99  degrees of freedom\n",
       "Residual deviance: 121.21  on 98  degrees of freedom\n",
       "AIC: 125.21\n",
       "\n",
       "Number of Fisher Scoring iterations: 4\n"
      ]
     },
     "metadata": {},
     "output_type": "display_data"
    }
   ],
   "source": [
    "g1=glm(y1~uni,data = dta, family = binomial(link = logit))\n",
    "g2=glm(y2~uni,data = dta, family = binomial(link = logit))\n",
    "g3=glm(y3~uni,data = dta, family = binomial(link = logit))\n",
    "g4=glm(y4~uni,data = dta, family = binomial(link = logit))\n",
    "summary(g1)"
   ]
  },
  {
   "cell_type": "code",
   "execution_count": 41,
   "metadata": {
    "collapsed": false,
    "scrolled": true
   },
   "outputs": [
    {
     "data": {
      "image/png": "[encoded data removed]",
      "text/plain": [
       "Plot with title \"Curva ajustada\""
      ]
     },
     "metadata": {},
     "output_type": "display_data"
    }
   ],
   "source": [
    "options(repr.plot.width=8, repr.plot.height=5)\n",
    "with(dta, plot(jitter(uni), jitter(dta$y1, 0.2), xlab = \"Uni\",\n",
    "ylab = quote(p(x)), main = \"Curva ajustada\", cex = 0.4,\n",
    "               cex.axis = 0.6, cex.lab = 0.6, cex.main = 0.7))\n",
    "curve(1/(1 + exp(-g1$coefficients[1] - g1$coefficients[2] * x)),add = TRUE,col=\"blue\")\n"
   ]
  },
  {
   "cell_type": "markdown",
   "metadata": {
    "collapsed": false
   },
   "source": [
    "Para el segundo modelo observamos que: "
   ]
  },
  {
   "cell_type": "code",
   "execution_count": 42,
   "metadata": {
    "collapsed": false
   },
   "outputs": [
    {
     "data": {
      "image/png": "[encoded data removed]",
      "text/plain": [
       "Plot with title \"Curva ajustada\""
      ]
     },
     "metadata": {},
     "output_type": "display_data"
    }
   ],
   "source": [
    "options(repr.plot.width=8, repr.plot.height=5)\n",
    "with(dta, plot(jitter(uni), jitter(dta$y3, 0.2), xlab = \"Uni\",\n",
    "    ylab = quote(p(x)), main = \"Curva ajustada\", cex = 0.4,\n",
    "               cex.axis = 0.6, cex.lab = 0.6, cex.main = 0.7))\n",
    "curve(1/(1 + exp(-g2$coefficients[1] - g2$coefficients[2] * x)),add = TRUE,col=\"blue\")"
   ]
  },
  {
   "cell_type": "code",
   "execution_count": 43,
   "metadata": {
    "collapsed": false
   },
   "outputs": [
    {
     "data": {
      "image/png": "[encoded data removed]",
      "text/plain": [
       "Plot with title \"Curva ajustada\""
      ]
     },
     "metadata": {},
     "output_type": "display_data"
    }
   ],
   "source": [
    "options(repr.plot.width=8, repr.plot.height=5)\n",
    "with(dta, plot(jitter(uni), jitter(dta$y3, 0.2), xlab = \"Uni\", \n",
    "               ylab = quote(p(x)),\n",
    "main = \"Curva ajustada\", cex = 0.4, cex.axis = 0.6, cex.lab = 0.6, cex.main = 0.7))\n",
    "curve(1/(1 + exp(-g3$coefficients[1] - g3$coefficients[2] * x)),add = TRUE,col=\"blue\")"
   ]
  },
  {
   "cell_type": "code",
   "execution_count": 44,
   "metadata": {
    "collapsed": false
   },
   "outputs": [
    {
     "data": {
      "image/png": "[encoded data removed]",
      "text/plain": [
       "Plot with title \"Curva ajustada\""
      ]
     },
     "metadata": {},
     "output_type": "display_data"
    }
   ],
   "source": [
    "options(repr.plot.width=8, repr.plot.height=5)\n",
    "with(dta, plot(jitter(uni), jitter(dta$y4, 0.2), xlab = \"Uni\",\n",
    "               ylab = quote(p(x)),\n",
    "main = \"Curva ajustada\", cex = 0.4, cex.axis = 0.6, cex.lab = 0.6, cex.main = 0.7))\n",
    "curve(1/(1 + exp(-g4$coefficients[1] - g4$coefficients[2] * x)),add = TRUE,col=\"blue\")"
   ]
  }
 ],
 "metadata": {
  "anaconda-cloud": {},
  "kernelspec": {
   "display_name": "R",
   "language": "R",
   "name": "ir"
  },
  "language_info": {
   "codemirror_mode": "r",
   "file_extension": ".r",
   "mimetype": "text/x-r-source",
   "name": "R",
   "pygments_lexer": "r",
   "version": "3.3.2"
  }
 },
 "nbformat": 4,
 "nbformat_minor": 0
}
